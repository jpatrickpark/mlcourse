{
 "cells": [
  {
   "cell_type": "code",
   "execution_count": 1,
   "metadata": {
    "slideshow": {
     "slide_type": "skip"
    }
   },
   "outputs": [],
   "source": [
    "from IPython import display\n",
    "def hide_code_in_slideshow():\n",
    "    import os\n",
    "    uid = os.urandom(8).encode(\"hex\")\n",
    "    html = \"\"\"<div id=\"%s\"></div>\n",
    "    <script type=\"text/javascript\">\n",
    "        $(function(){\n",
    "            var p = $(\"#%s\");\n",
    "            if (p.length==0) return;\n",
    "\n",
    "            while (!p.hasClass(\"cell\")) {\n",
    "                p=p.parent();\n",
    "\n",
    "                if (p.prop(\"tagName\") ==\"body\") return;\n",
    "            }\n",
    "            var cell = p;\n",
    "            cell.find(\".input\").addClass(\"hide-in-slideshow\")\n",
    "        });\n",
    "    </script>\"\"\" % (uid, uid)\n",
    "    display.display_html(html, raw=True)"
   ]
  },
  {
   "cell_type": "markdown",
   "metadata": {
    "slideshow": {
     "slide_type": "skip"
    }
   },
   "source": [
    "# Feature Importance outline\n",
    "\n",
    "### Feature importance\n",
    "- Introduction and motivation for discussing feature importance:\n",
    "    - Define feature importance (using a fuzzy definition -- rank features by how much they \"*contribute*\" to the prediction function).\n",
    "    - Feature importance measures are frequently reported, in part because many packages make them easy to compute/visualize.\n",
    "        - Show google image search results\n",
    "    - They can be potentially misleading. Important to understand potential pitfalls.\n",
    "    - Utility of feature importance:\n",
    "        - Feature selection -- use votes example from original Breiman Random Forests paper.\n",
    "        - Sanity checking models/detecting leakage (TODO: see if I can find an example where feature importance show some feature unexpectedly popping since due to leakage).\n",
    "- Framing feature importance methods:\n",
    "    - Divide into two classes:\n",
    "        - Methods that exploit the structure of the prediction function or learning algorithm (call these function-specific).\n",
    "        - Methods that are agnostic (i.e. can be applied to any black box prediction function).\n",
    "- Function-specific methods:\n",
    "    - Mean decrease impurity:\n",
    "        - Frame running example:\n",
    "            - Introduce the iris dataset and classification problem.\n",
    "            - graphviz some shallow tree on the iris dataset (see below).\n",
    "            - **Ask students** which features seem \"important\" as a turn and talk. Have some subset share answers without explanation.\n",
    "        - Introduce MDE:\n",
    "        $$Imp(X_m) = \\frac{1}{N_T}\\sum_T\\sum_{t \\in T:v(s_t)=X_m}p(t)\\Delta i(s_t,t)$$\n",
    "        - Show from scratch implimentation (see lab_outline_and_mean_decrease_impurity.ipynb).\n",
    "        - Show correspondance with sklearn's implementation.\n",
    "        - **Ask students** what other classifiers we could extend this too (Random Forests/GBMs) and how (averaging).\n",
    "        - Show RF importance for the iris problem.\n",
    "        - Say there are variants:\n",
    "            - Example: CART implementation exposes a knob to add weight for use of a feature as a surrogate split.\n",
    "    - Absolute coefficients in a linear model:\n",
    "        - **Ask students** how we could determine feature importance in a linear model.\n",
    "        - Show some example (TODO) of extracting absolute $\\beta$s from a model.\n",
    "        - **Ask students**: How would this interact with preprocessing?\n",
    "- Model agnostic methods:\n",
    "    - Frame the general problem for global feature importance:\n",
    "        - Another framing of feature importance -- we are trying to identify how much each feature independently contributes to risk reduction in the learned model.\n",
    "        - **Ask students**: How could we do this for an arbitrary black box prediction function?\n",
    "        - **Hint (fragment slide)**: Imagine you were tasked with constructing a synthetic dataset with an *unimportant* feature -- how could you construct it? Given this insight, what operation could be applied to a feature that would be expected to have (a) no impact on empirical risk for unimportant features, and (b) decrease performance for important featuers?\n",
    "    - Permutation importance:\n",
    "        - Give Breimans original OOB permutation feature importance.\n",
    "        - Say that the OOB version exploits bootstrapping in RFs, but can just use a validation set.\n",
    "        - Show example (using ELI5 implementation) over the iris problem.\n",
    "        - **Ask students**: This method permute features to get a measure of feature importance. Let's extend this concept a bit -- how could permuting the target be useful in interogating the performance of a model?\n",
    "        - http://jmlr.csail.mit.edu/papers/volume11/ojala10a/ojala10a.pdf\n",
    "        - For fun show this using permutation_test_score for the iris data.\n",
    "- Pitfalls:\n",
    "    - Correlated features\n",
    "        - Show the GBM feature importance for duplicated or highly correlated features (TODO: think about which is better for this purpose) (from lab_outline_and_mean_decrease_impurity.ipynb).\n",
    "        - **Ask students**: Interpret this plot. What can we say about the features/model?\n",
    "        - Show same plot for enet, and ask same question -- hopefully students will recall that (at least in the context of linear models) our conversations about feature correlation.\n",
    "        - Show the elastnic net bound result as review, and primer to think about correlation issues.\n",
    "        - Show correlation matrix/matrices (duplicated and/or highly correlated), and known data generating process.\n",
    "        - **Ask students**: Given what we know about (i) linear methods, and (ii) trees, what does this show us about potential pitfalls in interpreting feature importance plots?\n",
    "        - **Ask students**: How would this impact SelectFromModel feature selection procedures (ala sklearn) which select the most important features from a model based on either absolute coefficients or feature importance scores? Why might we want to use RFE?\n",
    "\n",
    "### PDPs\n",
    "- Motivation and introduction to partial dependence plots\n",
    "    - Imagine we have a subset of features we think are important.\n",
    "        - This could be based on \"feature importance\" scores or coefficients, or other reasons (i.e. prior knowledge/research questions/etc.).\n",
    "    - We may want to dig deeper to explain the relationship between our predictions and these features.\n",
    "        - **Ask students**: Why? If we have MDI feature importance scores in hand, what do we not know?\n",
    "            - Directionality:\n",
    "                - Note in reality we probably have complex, non-monotonic relationships\n",
    "                - However even if we have a monotonic relationship, or even linear, our MDI wouldn't give any indication on the direction -- obviously weights in a linear model would.\n",
    "    - Partial dependence plots let us dig deeper and visualize the dependence of our prediction function (i.e. predict/predict_proba) on one or two of these features. Can't easily go higher-dimensional (Why not? Can't visualize).\n",
    "    - Show basic math (marginal and empirical estimate -- see https://arxiv.org/pdf/1309.6392.pdf for useful framing).\n",
    "\n",
    "- PDP examples:\n",
    "    - Show sklearn example (see partial_dependence.ipynb).\n",
    "    - **Ask students**: What does this plot show? How do we interpret it? \n",
    "- PDP pitfalls:\n",
    "    - Show the flat partial dependence plot from (https://arxiv.org/pdf/1309.6392.pdf) reproduced in partial_dependence.ipynb.\n",
    "    - **Ask students**: What does this plot show?\n",
    "    - Follow up with big reveal:\n",
    "        - Show data generating process and X plot.\n",
    "    - **Ask students**: What does this teach us? When might PDPs fail?\n",
    "    - Share \"not too strong\" quote from Friedman's original work (see partial_dependence.ipynb).\n",
    "    \n",
    "### Additional material\n",
    "- If 100 minutes allows (what is your opinion, David?), the next steps would be:\n",
    "    - Generate the ICE plot for the X data (figure 2 in https://arxiv.org/pdf/1309.6392.pdf)\n",
    "    - Take this  as a launching point for point out that our progression has been from:\n",
    "        - Global measures (feature importance) that don't necessarily describe structure (even directionality) of a relationship between a feature and target.\n",
    "        - Marginalized measures showing average relationship between one or two features and the target.\n",
    "        - Data-instance specific feature importance plots showing the importance of a feature, for each data instance, fixing all other feature values.\n",
    "    - We can follow this thread it's conclusion -- attempting to develop model explanations that show the relative contribution of each feature to predictions locally (i.e. in the neighborhood of a specific instance):\n",
    "        - LIME paper (https://arxiv.org/abs/1602.04938) as one example.\n"
   ]
  },
  {
   "cell_type": "markdown",
   "metadata": {
    "slideshow": {
     "slide_type": "slide"
    }
   },
   "source": [
    "<center>\n",
    "    <h1>Feature Importance</h1>\n",
    "    <h4>\n",
    "        Ben Jakubowski <br>\n",
    "        NYU <br>\n",
    "        May 1st, 2018 <br>\n",
    "    </h4>\n",
    "</center>"
   ]
  },
  {
   "cell_type": "markdown",
   "metadata": {
    "slideshow": {
     "slide_type": "slide"
    }
   },
   "source": [
    "### Learning objectives\n",
    "\n",
    "##### Feature Importance\n",
    "- (Informally) define feature importance, and explain why exploring and presenting feature importance can be both (i) useful, and (ii) potentially misleading.\n",
    "- Define and describe several feature importance methods that exploit the structure of the learning algorithm or learned prediction function.\n",
    "- Describe a prediction-function-agnostic method for generating feature importance scores.\n",
    "- Describe the limitations of these feature importance measures and understand cases where they \"fail\".\n",
    "\n",
    "##### Partial Dependence Plots\n",
    "- Describe how partial dependence plots are generated.\n",
    "- Describe the limitations of these plots, and some potential remedies."
   ]
  },
  {
   "cell_type": "markdown",
   "metadata": {
    "slideshow": {
     "slide_type": "slide"
    }
   },
   "source": [
    "### Defining feature importance\n",
    "- Problem setup -- we have some data $(x, y) \\in (\\mathbb{R}^{d}, \\mathcal{Y})$, and a learned prediction function $f$.\n",
    "- A feature importance method can be loosely understood as a function that maps each feature onto some score.\n",
    "- These scores rank features by how much they \"*contribute*\" to the prediction function $f$.\n",
    "    - Here \"*contribute*\" is defined separately for each method.\n",
    "    - In general, *feature importance* is not consistently or rigorously defined."
   ]
  },
  {
   "cell_type": "markdown",
   "metadata": {
    "slideshow": {
     "slide_type": "subslide"
    }
   },
   "source": [
    "### Why we need to discuss feature importance\n",
    "- It is easy to compute feature importance from many ML libraries."
   ]
  },
  {
   "cell_type": "markdown",
   "metadata": {
    "slideshow": {
     "slide_type": "fragment"
    }
   },
   "source": [
    "![Google \"feature importance\" image search results](./static/google.png)"
   ]
  },
  {
   "cell_type": "markdown",
   "metadata": {
    "slideshow": {
     "slide_type": "subslide"
    }
   },
   "source": [
    "### Why we need to discuss feature importance\n",
    "- It is easy to compute feature importance from many ML libraries.\n",
    "- This means feature importance bar charts show up all over, and it is important to understand:\n",
    "    - How feature importance can be computed.\n",
    "    - Potential pitfalls in over interpreting these scores."
   ]
  },
  {
   "cell_type": "markdown",
   "metadata": {
    "slideshow": {
     "slide_type": "subslide"
    }
   },
   "source": [
    "### Utility of feature importance scores\n",
    "- **Question**: Why might feature importance scores be useful?"
   ]
  },
  {
   "cell_type": "markdown",
   "metadata": {
    "slideshow": {
     "slide_type": "fragment"
    }
   },
   "source": [
    "- Use for sanity checking a model -- do the features that are important seem reasonable, or do they suggest something strange is going on under the hood (i.e. leakage)?"
   ]
  },
  {
   "cell_type": "markdown",
   "metadata": {
    "slideshow": {
     "slide_type": "fragment"
    }
   },
   "source": [
    "- Share with clients/bosses to build trust and get buy-in on the prediction function."
   ]
  },
  {
   "cell_type": "markdown",
   "metadata": {
    "slideshow": {
     "slide_type": "fragment"
    }
   },
   "source": [
    "- Use for feature selection -- can extract the top $K$ features and retrain over this subset (ex: `sklearn.feature_selection.SelectFromModel`)"
   ]
  },
  {
   "cell_type": "markdown",
   "metadata": {
    "slideshow": {
     "slide_type": "subslide"
    }
   },
   "source": [
    "### Feature selection example\n",
    "- Breiman's original Random Forests paper showed feature importance for classification of political party based on 16 votes<sup id=\"a1\">[1](https://link.springer.com/content/pdf/10.1023/A:1010933404324.pdf)</sup>:\n",
    "![Breiman's voting feature importance plot](./static/breiman_votes.png)\n",
    "- *'We reran this data set using only variable 4. The test set error is 4.3%, about the same as if all variables were used.'*"
   ]
  },
  {
   "cell_type": "markdown",
   "metadata": {
    "slideshow": {
     "slide_type": "slide"
    }
   },
   "source": [
    "### First example/introducing the  issues\n",
    "\n",
    "- Consider the following feature importance plot for a regression problem with $$\\mathcal{Y} = \\mathcal{A} = \\mathbb{R}, X = \\mathbb{R}^{11}$$"
   ]
  },
  {
   "cell_type": "code",
   "execution_count": 2,
   "metadata": {
    "slideshow": {
     "slide_type": "fragment"
    }
   },
   "outputs": [
    {
     "data": {
      "text/html": [
       "<div id=\"fbc24198d33910e9\"></div>\n",
       "    <script type=\"text/javascript\">\n",
       "        $(function(){\n",
       "            var p = $(\"#fbc24198d33910e9\");\n",
       "            if (p.length==0) return;\n",
       "\n",
       "            while (!p.hasClass(\"cell\")) {\n",
       "                p=p.parent();\n",
       "\n",
       "                if (p.prop(\"tagName\") ==\"body\") return;\n",
       "            }\n",
       "            var cell = p;\n",
       "            cell.find(\".input\").addClass(\"hide-in-slideshow\")\n",
       "        });\n",
       "    </script>"
      ]
     },
     "metadata": {},
     "output_type": "display_data"
    },
    {
     "data": {
      "image/png": "[encoded data removed]",
      "text/plain": [
       "<Figure size 864x432 with 1 Axes>"
      ]
     },
     "metadata": {},
     "output_type": "display_data"
    }
   ],
   "source": [
    "hide_code_in_slideshow()\n",
    "from sklearn.datasets import make_regression\n",
    "from sklearn.model_selection import train_test_split\n",
    "from sklearn.linear_model import ElasticNetCV\n",
    "import pandas as pd\n",
    "import matplotlib.pyplot as plt\n",
    "import numpy as np\n",
    "import seaborn as sns\n",
    "sns.set_context('notebook', font_scale=1.5)\n",
    "%matplotlib inline\n",
    "\n",
    "X,y = make_regression(n_samples=1000, n_features=10,\n",
    "                      n_informative=3,random_state=1234,\n",
    "                      shuffle=False, noise=10)\n",
    "X = np.append(X, X[:,[0]], axis=1)\n",
    "train_X, test_X, train_y, test_y = train_test_split(X,y,\n",
    "                                                    test_size=0.2,\n",
    "                                                    random_state=1235)\n",
    "\n",
    "enet = ElasticNetCV(l1_ratio=np.array([.1, .5, .7, .9, .95, .99, 1]),\n",
    "                    n_alphas=500,\n",
    "                    normalize=True,\n",
    "                    selection='random',\n",
    "                    random_state=1351)\n",
    "enet.fit(train_X, train_y)\n",
    "\n",
    "coefs = pd.DataFrame({'Feature': np.arange(len(enet.coef_)),\n",
    "                      'Importance': np.abs(enet.coef_)})\n",
    "coefs = coefs.set_index('Feature')\\\n",
    "             .sort_values('Importance', ascending=False)\n",
    "    \n",
    "fig, ax=plt.subplots(figsize=(12,6))\n",
    "plot = coefs.plot(kind='bar', title='Example feature importance chart', ax=ax)"
   ]
  },
  {
   "cell_type": "markdown",
   "metadata": {
    "slideshow": {
     "slide_type": "fragment"
    }
   },
   "source": [
    "- Question: What can we say about this prediction function, it features, and target?"
   ]
  },
  {
   "cell_type": "markdown",
   "metadata": {
    "slideshow": {
     "slide_type": "subslide"
    }
   },
   "source": [
    "### First example/introducing the  issues (continued)\n",
    "\n",
    "- Recall the full feature set includes features $\\{0,\\cdots,10\\}$.\n",
    "- Let's compare both (a) test set performance ($R^2$), and (b) feature importance plots, for models trained on:\n",
    "    - All features\n",
    "    - Features $\\{0,\\cdots,9\\}$\n",
    "    - Features $\\{1,\\cdots,9\\}$\n",
    "    - Features $\\{1,\\cdots,10\\}$"
   ]
  },
  {
   "cell_type": "markdown",
   "metadata": {
    "slideshow": {
     "slide_type": "subslide"
    }
   },
   "source": [
    "### First example/introducing the  issues (continued)\n",
    "\n",
    "- Recall the full feature set includes features $\\{0,\\cdots,10\\}$..."
   ]
  },
  {
   "cell_type": "code",
   "execution_count": 3,
   "metadata": {
    "slideshow": {
     "slide_type": "fragment"
    }
   },
   "outputs": [
    {
     "data": {
      "text/html": [
       "<div id=\"efa2b0ab3a8f1125\"></div>\n",
       "    <script type=\"text/javascript\">\n",
       "        $(function(){\n",
       "            var p = $(\"#efa2b0ab3a8f1125\");\n",
       "            if (p.length==0) return;\n",
       "\n",
       "            while (!p.hasClass(\"cell\")) {\n",
       "                p=p.parent();\n",
       "\n",
       "                if (p.prop(\"tagName\") ==\"body\") return;\n",
       "            }\n",
       "            var cell = p;\n",
       "            cell.find(\".input\").addClass(\"hide-in-slideshow\")\n",
       "        });\n",
       "    </script>"
      ]
     },
     "metadata": {},
     "output_type": "display_data"
    },
    {
     "data": {
      "image/png": "[encoded data removed]",
      "text/plain": [
       "<Figure size 864x576 with 4 Axes>"
      ]
     },
     "metadata": {},
     "output_type": "display_data"
    }
   ],
   "source": [
    "from matplotlib import rc\n",
    "rc('text', usetex=True)\n",
    "\n",
    "from sklearn.metrics import mean_squared_error\n",
    "from math import floor\n",
    "\n",
    "hide_code_in_slideshow()\n",
    "features_to_test = {\n",
    "    'All': np.arange(0,11),\n",
    "    '0-9': np.arange(0,10),\n",
    "    '1-9': np.arange(1,10),\n",
    "    '1-10': np.arange(1,11)\n",
    "}\n",
    "\n",
    "fig, axarr = plt.subplots(ncols=2, nrows=2, figsize=(12,8))\n",
    "\n",
    "i = 0\n",
    "for model_name, features in features_to_test.items():\n",
    "    col = i % 2\n",
    "    row = int(floor(i/2))\n",
    "    \n",
    "    _train_X = train_X[:, features]\n",
    "    _test_X = test_X[:, features]\n",
    "    \n",
    "    enet = ElasticNetCV(l1_ratio=np.array([.1, .5, .7, .9, .95, .99, 1]),\n",
    "                        n_alphas=1000,\n",
    "                        normalize=True,\n",
    "                        selection='random',\n",
    "                        random_state=1351)\n",
    "    enet.fit(_train_X, train_y)\n",
    "\n",
    "    coefs = pd.DataFrame({'Feature': features,\n",
    "                          'Importance': np.abs(enet.coef_)})\n",
    "    coefs = coefs.set_index('Feature')\\\n",
    "                 .sort_values('Importance', ascending=False)\n",
    "\n",
    "    plot = coefs.plot(kind='bar', title='Typical feature importance chart', ax=axarr[(row,col)])\n",
    "    \n",
    "    title = 'Features:' + model_name + r'; $R^2$ =' + \\\n",
    "             str(round(enet.score(_test_X,test_y),3))\n",
    "    \n",
    "    axarr[(row,col)].set_title(title)\n",
    "    \n",
    "    i += 1\n",
    "plt.tight_layout()"
   ]
  },
  {
   "cell_type": "markdown",
   "metadata": {
    "slideshow": {
     "slide_type": "fragment"
    }
   },
   "source": [
    "- What can we learn from this example?"
   ]
  },
  {
   "cell_type": "markdown",
   "metadata": {
    "slideshow": {
     "slide_type": "subslide"
    }
   },
   "source": [
    "### First example/introducing the  issues (continued)\n",
    "\n",
    "- Here was the setup:\n",
    "```\n",
    "X,y = make_regression(n_samples=1000, n_features=10,\n",
    "                      n_informative=3, random_state=1234,\n",
    "                      shuffle=False, noise=10)\n",
    "X = np.append(X, X[:,[0]], axis=1)\n",
    "```"
   ]
  },
  {
   "cell_type": "markdown",
   "metadata": {
    "slideshow": {
     "slide_type": "fragment"
    }
   },
   "source": [
    "- Some things to keep in mind:\n",
    "    - Interactions and correlated/dependent features makes intepretation tricky.\n",
    "    - Feature importance $\\ne$ dependence of target on feature\n",
    "    - Feature importance $\\approx$ contribution of feature to prediction function $f$\n",
    "    - **This doesn't imply there do not exist other functions $f'$ where features that are 'unimportant' in $f$ are 'important'**"
   ]
  },
  {
   "cell_type": "markdown",
   "metadata": {
    "slideshow": {
     "slide_type": "subslide"
    }
   },
   "source": [
    "### Where we're headed:\n",
    "- With this in mind, we're going to look at a number of methods for measuring feature importance.\n",
    "- We can devide these methods into two basic classes:\n",
    "    - Algorithmic/prediction-function-specific methods: These exploit the structure of the learning algorithm/prediction function to construct some measure of the relative contribution of each feature.\n",
    "    - Model agnostic methods: These don't make assumptions on the algorithm or structure of the prediction function; can be applied to any black-box predictor."
   ]
  },
  {
   "cell_type": "markdown",
   "metadata": {
    "slideshow": {
     "slide_type": "slide"
    }
   },
   "source": [
    "### Prediction-function-specific: Trees\n",
    "\n",
    "- Our first algorithm/prediction function specific methods will address decision trees.\n",
    "- We'll use the Iris Dataset, which is a canonical classification dataset (first used by R.A. Fisher) with:\n",
    "    - $\\mathcal{Y} = $ {Setosa, Versicolour, Virginica} (three varieties of irises).\n",
    "    - $X = $ [sepal length, sepal width, petal length, petal width] $\\in \\mathbb{R}^4$"
   ]
  },
  {
   "cell_type": "markdown",
   "metadata": {
    "slideshow": {
     "slide_type": "subslide"
    }
   },
   "source": [
    "### Prediction-function-specific: Trees (Continued)\n",
    "\n",
    "- Let's consider a shallow tree built on this data."
   ]
  },
  {
   "cell_type": "code",
   "execution_count": 4,
   "metadata": {
    "slideshow": {
     "slide_type": "fragment"
    }
   },
   "outputs": [
    {
     "data": {
      "text/html": [
       "<div id=\"12cd5df1c2ee1c11\"></div>\n",
       "    <script type=\"text/javascript\">\n",
       "        $(function(){\n",
       "            var p = $(\"#12cd5df1c2ee1c11\");\n",
       "            if (p.length==0) return;\n",
       "\n",
       "            while (!p.hasClass(\"cell\")) {\n",
       "                p=p.parent();\n",
       "\n",
       "                if (p.prop(\"tagName\") ==\"body\") return;\n",
       "            }\n",
       "            var cell = p;\n",
       "            cell.find(\".input\").addClass(\"hide-in-slideshow\")\n",
       "        });\n",
       "    </script>"
      ]
     },
     "metadata": {},
     "output_type": "display_data"
    },
    {
     "data": {
      "image/svg+xml": [
       "<?xml version=\"1.0\" encoding=\"UTF-8\" standalone=\"no\"?>\n",
       "<!DOCTYPE svg PUBLIC \"-//W3C//DTD SVG 1.1//EN\"\n",
       " \"http://www.w3.org/Graphics/SVG/1.1/DTD/svg11.dtd\">\n",
       "<!-- Generated by graphviz version 2.38.0 (20140413.2041)\n",
       " -->\n",
       "<!-- Title: Tree Pages: 1 -->\n",
       "<svg width=\"560pt\" height=\"414pt\"\n",
       " viewBox=\"0.00 0.00 559.83 414.00\" xmlns=\"http://www.w3.org/2000/svg\" xmlns:xlink=\"http://www.w3.org/1999/xlink\">\n",
       "<g id=\"graph0\" class=\"graph\" transform=\"scale(1 1) rotate(0) translate(4 410)\">\n",
       "<title>Tree</title>\n",
       "<polygon fill=\"white\" stroke=\"none\" points=\"-4,4 -4,-410 555.831,-410 555.831,4 -4,4\"/>\n",
       "<!-- 0 -->\n",
       "<g id=\"node1\" class=\"node\"><title>0</title>\n",
       "<path fill=\"none\" stroke=\"black\" d=\"M267.357,-406C267.357,-406 128.398,-406 128.398,-406 122.398,-406 116.398,-400 116.398,-394 116.398,-394 116.398,-340 116.398,-340 116.398,-334 122.398,-328 128.398,-328 128.398,-328 267.357,-328 267.357,-328 273.357,-328 279.357,-334 279.357,-340 279.357,-340 279.357,-394 279.357,-394 279.357,-400 273.357,-406 267.357,-406\"/>\n",
       "<text text-anchor=\"start\" x=\"124.388\" y=\"-390.8\" font-family=\"Helvetica,sans-Serif\" font-size=\"14.00\">petal length (cm) ≤ 2.45</text>\n",
       "<text text-anchor=\"start\" x=\"161.486\" y=\"-376.8\" font-family=\"Helvetica,sans-Serif\" font-size=\"14.00\">gini = 0.667</text>\n",
       "<text text-anchor=\"start\" x=\"152.155\" y=\"-362.8\" font-family=\"Helvetica,sans-Serif\" font-size=\"14.00\">samples = 150</text>\n",
       "<text text-anchor=\"start\" x=\"138.138\" y=\"-348.8\" font-family=\"Helvetica,sans-Serif\" font-size=\"14.00\">value = [50, 50, 50]</text>\n",
       "<text text-anchor=\"start\" x=\"153.328\" y=\"-334.8\" font-family=\"Helvetica,sans-Serif\" font-size=\"14.00\">class = setosa</text>\n",
       "</g>\n",
       "<!-- 1 -->\n",
       "<g id=\"node2\" class=\"node\"><title>1</title>\n",
       "<path fill=\"#e58139\" stroke=\"black\" d=\"M167.784,-285C167.784,-285 71.9712,-285 71.9712,-285 65.9712,-285 59.9712,-279 59.9712,-273 59.9712,-273 59.9712,-233 59.9712,-233 59.9712,-227 65.9712,-221 71.9712,-221 71.9712,-221 167.784,-221 167.784,-221 173.784,-221 179.784,-227 179.784,-233 179.784,-233 179.784,-273 179.784,-273 179.784,-279 173.784,-285 167.784,-285\"/>\n",
       "<text text-anchor=\"start\" x=\"91.2725\" y=\"-269.8\" font-family=\"Helvetica,sans-Serif\" font-size=\"14.00\">gini = 0.0</text>\n",
       "<text text-anchor=\"start\" x=\"78.0483\" y=\"-255.8\" font-family=\"Helvetica,sans-Serif\" font-size=\"14.00\">samples = 50</text>\n",
       "<text text-anchor=\"start\" x=\"67.9243\" y=\"-241.8\" font-family=\"Helvetica,sans-Serif\" font-size=\"14.00\">value = [50, 0, 0]</text>\n",
       "<text text-anchor=\"start\" x=\"75.3276\" y=\"-227.8\" font-family=\"Helvetica,sans-Serif\" font-size=\"14.00\">class = setosa</text>\n",
       "</g>\n",
       "<!-- 0&#45;&gt;1 -->\n",
       "<g id=\"edge1\" class=\"edge\"><title>0&#45;&gt;1</title>\n",
       "<path fill=\"none\" stroke=\"black\" d=\"M171.252,-327.769C163.515,-316.66 155.053,-304.509 147.27,-293.333\"/>\n",
       "<polygon fill=\"black\" stroke=\"black\" points=\"150.061,-291.216 141.474,-285.01 144.317,-295.216 150.061,-291.216\"/>\n",
       "<text text-anchor=\"middle\" x=\"137.07\" y=\"-305.419\" font-family=\"Helvetica,sans-Serif\" font-size=\"14.00\">True</text>\n",
       "</g>\n",
       "<!-- 2 -->\n",
       "<g id=\"node3\" class=\"node\"><title>2</title>\n",
       "<path fill=\"none\" stroke=\"black\" d=\"M343.396,-292C343.396,-292 210.359,-292 210.359,-292 204.359,-292 198.359,-286 198.359,-280 198.359,-280 198.359,-226 198.359,-226 198.359,-220 204.359,-214 210.359,-214 210.359,-214 343.396,-214 343.396,-214 349.396,-214 355.396,-220 355.396,-226 355.396,-226 355.396,-280 355.396,-280 355.396,-286 349.396,-292 343.396,-292\"/>\n",
       "<text text-anchor=\"start\" x=\"206.119\" y=\"-276.8\" font-family=\"Helvetica,sans-Serif\" font-size=\"14.00\">petal width (cm) ≤ 1.75</text>\n",
       "<text text-anchor=\"start\" x=\"248.272\" y=\"-262.8\" font-family=\"Helvetica,sans-Serif\" font-size=\"14.00\">gini = 0.5</text>\n",
       "<text text-anchor=\"start\" x=\"231.155\" y=\"-248.8\" font-family=\"Helvetica,sans-Serif\" font-size=\"14.00\">samples = 100</text>\n",
       "<text text-anchor=\"start\" x=\"221.031\" y=\"-234.8\" font-family=\"Helvetica,sans-Serif\" font-size=\"14.00\">value = [0, 50, 50]</text>\n",
       "<text text-anchor=\"start\" x=\"223\" y=\"-220.8\" font-family=\"Helvetica,sans-Serif\" font-size=\"14.00\">class = versicolor</text>\n",
       "</g>\n",
       "<!-- 0&#45;&gt;2 -->\n",
       "<g id=\"edge2\" class=\"edge\"><title>0&#45;&gt;2</title>\n",
       "<path fill=\"none\" stroke=\"black\" d=\"M224.844,-327.769C231.072,-318.939 237.765,-309.451 244.207,-300.318\"/>\n",
       "<polygon fill=\"black\" stroke=\"black\" points=\"247.129,-302.248 250.033,-292.058 241.409,-298.213 247.129,-302.248\"/>\n",
       "<text text-anchor=\"middle\" x=\"254.289\" y=\"-312.494\" font-family=\"Helvetica,sans-Serif\" font-size=\"14.00\">False</text>\n",
       "</g>\n",
       "<!-- 3 -->\n",
       "<g id=\"node4\" class=\"node\"><title>3</title>\n",
       "<path fill=\"#39e581\" fill-opacity=\"0.898039\" stroke=\"black\" d=\"M256.357,-178C256.357,-178 117.398,-178 117.398,-178 111.398,-178 105.398,-172 105.398,-166 105.398,-166 105.398,-112 105.398,-112 105.398,-106 111.398,-100 117.398,-100 117.398,-100 256.357,-100 256.357,-100 262.357,-100 268.357,-106 268.357,-112 268.357,-112 268.357,-166 268.357,-166 268.357,-172 262.357,-178 256.357,-178\"/>\n",
       "<text text-anchor=\"start\" x=\"113.388\" y=\"-162.8\" font-family=\"Helvetica,sans-Serif\" font-size=\"14.00\">petal length (cm) ≤ 4.95</text>\n",
       "<text text-anchor=\"start\" x=\"150.486\" y=\"-148.8\" font-family=\"Helvetica,sans-Serif\" font-size=\"14.00\">gini = 0.168</text>\n",
       "<text text-anchor=\"start\" x=\"145.048\" y=\"-134.8\" font-family=\"Helvetica,sans-Serif\" font-size=\"14.00\">samples = 54</text>\n",
       "<text text-anchor=\"start\" x=\"134.924\" y=\"-120.8\" font-family=\"Helvetica,sans-Serif\" font-size=\"14.00\">value = [0, 49, 5]</text>\n",
       "<text text-anchor=\"start\" x=\"133\" y=\"-106.8\" font-family=\"Helvetica,sans-Serif\" font-size=\"14.00\">class = versicolor</text>\n",
       "</g>\n",
       "<!-- 2&#45;&gt;3 -->\n",
       "<g id=\"edge3\" class=\"edge\"><title>2&#45;&gt;3</title>\n",
       "<path fill=\"none\" stroke=\"black\" d=\"M246.156,-213.769C238.988,-204.849 231.281,-195.257 223.872,-186.038\"/>\n",
       "<polygon fill=\"black\" stroke=\"black\" points=\"226.452,-183.661 217.46,-178.058 220.996,-188.046 226.452,-183.661\"/>\n",
       "</g>\n",
       "<!-- 6 -->\n",
       "<g id=\"node7\" class=\"node\"><title>6</title>\n",
       "<path fill=\"#8139e5\" fill-opacity=\"0.976471\" stroke=\"black\" d=\"M437.357,-178C437.357,-178 298.398,-178 298.398,-178 292.398,-178 286.398,-172 286.398,-166 286.398,-166 286.398,-112 286.398,-112 286.398,-106 292.398,-100 298.398,-100 298.398,-100 437.357,-100 437.357,-100 443.357,-100 449.357,-106 449.357,-112 449.357,-112 449.357,-166 449.357,-166 449.357,-172 443.357,-178 437.357,-178\"/>\n",
       "<text text-anchor=\"start\" x=\"294.388\" y=\"-162.8\" font-family=\"Helvetica,sans-Serif\" font-size=\"14.00\">petal length (cm) ≤ 4.85</text>\n",
       "<text text-anchor=\"start\" x=\"331.486\" y=\"-148.8\" font-family=\"Helvetica,sans-Serif\" font-size=\"14.00\">gini = 0.043</text>\n",
       "<text text-anchor=\"start\" x=\"326.048\" y=\"-134.8\" font-family=\"Helvetica,sans-Serif\" font-size=\"14.00\">samples = 46</text>\n",
       "<text text-anchor=\"start\" x=\"315.924\" y=\"-120.8\" font-family=\"Helvetica,sans-Serif\" font-size=\"14.00\">value = [0, 1, 45]</text>\n",
       "<text text-anchor=\"start\" x=\"318.276\" y=\"-106.8\" font-family=\"Helvetica,sans-Serif\" font-size=\"14.00\">class = virginica</text>\n",
       "</g>\n",
       "<!-- 2&#45;&gt;6 -->\n",
       "<g id=\"edge6\" class=\"edge\"><title>2&#45;&gt;6</title>\n",
       "<path fill=\"none\" stroke=\"black\" d=\"M307.94,-213.769C315.188,-204.849 322.981,-195.257 330.471,-186.038\"/>\n",
       "<polygon fill=\"black\" stroke=\"black\" points=\"333.365,-188.027 336.955,-178.058 327.933,-183.613 333.365,-188.027\"/>\n",
       "</g>\n",
       "<!-- 4 -->\n",
       "<g id=\"node5\" class=\"node\"><title>4</title>\n",
       "<path fill=\"#39e581\" fill-opacity=\"0.980392\" stroke=\"black\" d=\"M111.633,-64C111.633,-64 12.1223,-64 12.1223,-64 6.12232,-64 0.122316,-58 0.122316,-52 0.122316,-52 0.122316,-12 0.122316,-12 0.122316,-6 6.12232,-0 12.1223,-0 12.1223,-0 111.633,-0 111.633,-0 117.633,-0 123.633,-6 123.633,-12 123.633,-12 123.633,-52 123.633,-52 123.633,-58 117.633,-64 111.633,-64\"/>\n",
       "<text text-anchor=\"start\" x=\"25.4863\" y=\"-48.8\" font-family=\"Helvetica,sans-Serif\" font-size=\"14.00\">gini = 0.041</text>\n",
       "<text text-anchor=\"start\" x=\"20.0483\" y=\"-34.8\" font-family=\"Helvetica,sans-Serif\" font-size=\"14.00\">samples = 48</text>\n",
       "<text text-anchor=\"start\" x=\"9.92432\" y=\"-20.8\" font-family=\"Helvetica,sans-Serif\" font-size=\"14.00\">value = [0, 47, 1]</text>\n",
       "<text text-anchor=\"start\" x=\"8\" y=\"-6.8\" font-family=\"Helvetica,sans-Serif\" font-size=\"14.00\">class = versicolor</text>\n",
       "</g>\n",
       "<!-- 3&#45;&gt;4 -->\n",
       "<g id=\"edge4\" class=\"edge\"><title>3&#45;&gt;4</title>\n",
       "<path fill=\"none\" stroke=\"black\" d=\"M141.396,-99.7956C130.053,-90.2671 117.899,-80.0585 106.593,-70.5614\"/>\n",
       "<polygon fill=\"black\" stroke=\"black\" points=\"108.83,-67.8692 98.9217,-64.1172 104.328,-73.2291 108.83,-67.8692\"/>\n",
       "</g>\n",
       "<!-- 5 -->\n",
       "<g id=\"node6\" class=\"node\"><title>5</title>\n",
       "<path fill=\"#8139e5\" fill-opacity=\"0.498039\" stroke=\"black\" d=\"M244.581,-64C244.581,-64 153.174,-64 153.174,-64 147.174,-64 141.174,-58 141.174,-52 141.174,-52 141.174,-12 141.174,-12 141.174,-6 147.174,-0 153.174,-0 153.174,-0 244.581,-0 244.581,-0 250.581,-0 256.581,-6 256.581,-12 256.581,-12 256.581,-52 256.581,-52 256.581,-58 250.581,-64 244.581,-64\"/>\n",
       "<text text-anchor=\"start\" x=\"162.486\" y=\"-48.8\" font-family=\"Helvetica,sans-Serif\" font-size=\"14.00\">gini = 0.444</text>\n",
       "<text text-anchor=\"start\" x=\"160.941\" y=\"-34.8\" font-family=\"Helvetica,sans-Serif\" font-size=\"14.00\">samples = 6</text>\n",
       "<text text-anchor=\"start\" x=\"150.817\" y=\"-20.8\" font-family=\"Helvetica,sans-Serif\" font-size=\"14.00\">value = [0, 2, 4]</text>\n",
       "<text text-anchor=\"start\" x=\"149.276\" y=\"-6.8\" font-family=\"Helvetica,sans-Serif\" font-size=\"14.00\">class = virginica</text>\n",
       "</g>\n",
       "<!-- 3&#45;&gt;5 -->\n",
       "<g id=\"edge5\" class=\"edge\"><title>3&#45;&gt;5</title>\n",
       "<path fill=\"none\" stroke=\"black\" d=\"M191.244,-99.7956C192.197,-91.4581 193.209,-82.6 194.174,-74.1534\"/>\n",
       "<polygon fill=\"black\" stroke=\"black\" points=\"197.663,-74.4499 195.321,-64.1172 190.708,-73.6551 197.663,-74.4499\"/>\n",
       "</g>\n",
       "<!-- 7 -->\n",
       "<g id=\"node8\" class=\"node\"><title>7</title>\n",
       "<path fill=\"#8139e5\" fill-opacity=\"0.498039\" stroke=\"black\" d=\"M401.581,-64C401.581,-64 310.174,-64 310.174,-64 304.174,-64 298.174,-58 298.174,-52 298.174,-52 298.174,-12 298.174,-12 298.174,-6 304.174,-0 310.174,-0 310.174,-0 401.581,-0 401.581,-0 407.581,-0 413.581,-6 413.581,-12 413.581,-12 413.581,-52 413.581,-52 413.581,-58 407.581,-64 401.581,-64\"/>\n",
       "<text text-anchor=\"start\" x=\"319.486\" y=\"-48.8\" font-family=\"Helvetica,sans-Serif\" font-size=\"14.00\">gini = 0.444</text>\n",
       "<text text-anchor=\"start\" x=\"317.941\" y=\"-34.8\" font-family=\"Helvetica,sans-Serif\" font-size=\"14.00\">samples = 3</text>\n",
       "<text text-anchor=\"start\" x=\"307.817\" y=\"-20.8\" font-family=\"Helvetica,sans-Serif\" font-size=\"14.00\">value = [0, 1, 2]</text>\n",
       "<text text-anchor=\"start\" x=\"306.276\" y=\"-6.8\" font-family=\"Helvetica,sans-Serif\" font-size=\"14.00\">class = virginica</text>\n",
       "</g>\n",
       "<!-- 6&#45;&gt;7 -->\n",
       "<g id=\"edge7\" class=\"edge\"><title>6&#45;&gt;7</title>\n",
       "<path fill=\"none\" stroke=\"black\" d=\"M363.511,-99.7956C362.558,-91.4581 361.546,-82.6 360.581,-74.1534\"/>\n",
       "<polygon fill=\"black\" stroke=\"black\" points=\"364.047,-73.6551 359.434,-64.1172 357.092,-74.4499 364.047,-73.6551\"/>\n",
       "</g>\n",
       "<!-- 8 -->\n",
       "<g id=\"node9\" class=\"node\"><title>8</title>\n",
       "<path fill=\"#8139e5\" stroke=\"black\" d=\"M539.784,-64C539.784,-64 443.971,-64 443.971,-64 437.971,-64 431.971,-58 431.971,-52 431.971,-52 431.971,-12 431.971,-12 431.971,-6 437.971,-0 443.971,-0 443.971,-0 539.784,-0 539.784,-0 545.784,-0 551.784,-6 551.784,-12 551.784,-12 551.784,-52 551.784,-52 551.784,-58 545.784,-64 539.784,-64\"/>\n",
       "<text text-anchor=\"start\" x=\"463.272\" y=\"-48.8\" font-family=\"Helvetica,sans-Serif\" font-size=\"14.00\">gini = 0.0</text>\n",
       "<text text-anchor=\"start\" x=\"450.048\" y=\"-34.8\" font-family=\"Helvetica,sans-Serif\" font-size=\"14.00\">samples = 43</text>\n",
       "<text text-anchor=\"start\" x=\"439.924\" y=\"-20.8\" font-family=\"Helvetica,sans-Serif\" font-size=\"14.00\">value = [0, 0, 43]</text>\n",
       "<text text-anchor=\"start\" x=\"442.276\" y=\"-6.8\" font-family=\"Helvetica,sans-Serif\" font-size=\"14.00\">class = virginica</text>\n",
       "</g>\n",
       "<!-- 6&#45;&gt;8 -->\n",
       "<g id=\"edge8\" class=\"edge\"><title>6&#45;&gt;8</title>\n",
       "<path fill=\"none\" stroke=\"black\" d=\"M412.995,-99.7956C424.14,-90.3587 436.072,-80.2547 447.196,-70.8355\"/>\n",
       "<polygon fill=\"black\" stroke=\"black\" points=\"449.76,-73.2504 455.13,-64.1172 445.236,-67.9083 449.76,-73.2504\"/>\n",
       "</g>\n",
       "</g>\n",
       "</svg>\n"
      ],
      "text/plain": [
       "<graphviz.files.Source at 0x113191650>"
      ]
     },
     "metadata": {},
     "output_type": "display_data"
    }
   ],
   "source": [
    "hide_code_in_slideshow()\n",
    "from sklearn.datasets import load_iris\n",
    "from sklearn import tree\n",
    "import graphviz \n",
    "\n",
    "iris = load_iris()\n",
    "clf = tree.DecisionTreeClassifier(max_depth=3)\n",
    "clf = clf.fit(iris.data, iris.target)\n",
    "\n",
    "\n",
    "dot_data = tree.export_graphviz(clf, out_file=None, \n",
    "                                feature_names=iris.feature_names,  \n",
    "                                class_names=iris.target_names,  \n",
    "                                filled=True, rounded=True,  \n",
    "                                special_characters=True)  \n",
    "graph = graphviz.Source(dot_data)  \n",
    "display.display(graph)"
   ]
  },
  {
   "cell_type": "markdown",
   "metadata": {
    "slideshow": {
     "slide_type": "fragment"
    }
   },
   "source": [
    "- **Question**: Which of the feature ([sepal length, sepal width, petal length, petal width]) are most important? Why?"
   ]
  },
  {
   "cell_type": "markdown",
   "metadata": {
    "slideshow": {
     "slide_type": "subslide"
    }
   },
   "source": [
    "### Prediction-function-specific: Trees (Continued)\n",
    "\n",
    "#### Tree buiding reminders\n",
    "- Consider node $t$ in a decision tree built on $N$ training data instances.\n",
    "- Let node $t$ have $N_t$ node samples.\n",
    "- We find the split $s_t$ at node $t$ such that $t_L$ and $t_R$ maximizes the decrease\n",
    "$$\\Delta i(s, t) = i(t) − p_Li(t_L) − p_Ri(t_R)$$\n",
    "where $p_L$ and $p_R$ are the probabilities an instance splits left and right, respectively, and $i(t)$ is some some impurity measure.\n"
   ]
  },
  {
   "cell_type": "markdown",
   "metadata": {
    "slideshow": {
     "slide_type": "subslide"
    }
   },
   "source": [
    "### Prediction-function-specific: Trees (Continued)\n",
    "\n",
    "#### Mean decrease impurity\n",
    "- The **mean decrease impurity** $imp(X_m)$ for feature $X_m$ is:\n",
    "$$imp(X_m) = \\sum_{v(s_t)=X_m}p(t)\\Delta i(s_t,t)$$\n",
    "Note $p(t) = N_t/N$ is the proportion of samples reaching node $t$ and $v(s_t)$ is the variable used in split $s_t$."
   ]
  },
  {
   "cell_type": "markdown",
   "metadata": {
    "slideshow": {
     "slide_type": "subslide"
    }
   },
   "source": [
    "### Prediction-function-specific: Trees (Continued)\n",
    "\n",
    "$$imp(X_m) = \\sum_{v(s_t)=X_m}p(t)\\Delta i(s_t,t)$$\n",
    "\n",
    "- **Question**: When will a feature be considered more important under this metric?"
   ]
  },
  {
   "cell_type": "markdown",
   "metadata": {
    "slideshow": {
     "slide_type": "fragment"
    }
   },
   "source": [
    "- **Question**: Why is this an algorithm/prediction-function specific method?\n"
   ]
  },
  {
   "cell_type": "markdown",
   "metadata": {
    "slideshow": {
     "slide_type": "subslide"
    }
   },
   "source": [
    "### Prediction-function-specific: Trees (Continued)\n",
    "\n",
    "- Implementation:"
   ]
  },
  {
   "cell_type": "code",
   "execution_count": 8,
   "metadata": {
    "slideshow": {
     "slide_type": "fragment"
    }
   },
   "outputs": [],
   "source": [
    "from collections import defaultdict\n",
    "import numpy as np\n",
    "\n",
    "def feature_importance_single_tree(tree, feature_names=iris.feature_names):\n",
    "    # Returns normed feature importance for a single sklearn.tree\n",
    "    # Note sklearn trees can handle instance weights, so we need\n",
    "    # to use weighted_n_node_samples\n",
    "    \n",
    "    total_samples = np.sum(tree.weighted_n_node_samples)\n",
    "    feature_importance = defaultdict(float)\n",
    "    \n",
    "    # Identify leaves as described in sklearn's plot_unveil_tree_structure.html\n",
    "    is_leaf = (tree.children_right == tree.children_left)\n",
    "    for ix in range(len(is_leaf)):\n",
    "        if not is_leaf[ix]:\n",
    "            impurity = tree.impurity[ix]\n",
    "            split_feature = tree.feature[ix]\n",
    "            num_at_node = tree.weighted_n_node_samples[ix]\n",
    "\n",
    "            # Get left child contribution\n",
    "            left_child = tree.children_left[ix]\n",
    "            left_decrease = tree.weighted_n_node_samples[left_child]/num_at_node * \\\n",
    "                                tree.impurity[left_child]\n",
    "\n",
    "            # Get right child contribution\n",
    "            right_child = tree.children_right[ix]\n",
    "            right_decrease = tree.weighted_n_node_samples[right_child]/num_at_node * \\\n",
    "                                tree.impurity[right_child]\n",
    "\n",
    "            delta = impurity - left_decrease - right_decrease\n",
    "            \n",
    "            feature_importance[feature_names[split_feature]] \\\n",
    "                += num_at_node / total_samples * delta\n",
    "    norm = np.sum(feature_importance.values())\n",
    "    feature_importance = {key: val/norm for key, val in feature_importance.items()}\n",
    "    return feature_importance"
   ]
  },
  {
   "cell_type": "markdown",
   "metadata": {
    "slideshow": {
     "slide_type": "subslide"
    }
   },
   "source": [
    "### Prediction-function-specific: Trees (Continued)\n",
    "\n",
    "- Implementation vs. sklearn"
   ]
  },
  {
   "cell_type": "code",
   "execution_count": 9,
   "metadata": {
    "slideshow": {
     "slide_type": "fragment"
    }
   },
   "outputs": [
    {
     "data": {
      "text/html": [
       "<div>\n",
       "<style scoped>\n",
       "    .dataframe tbody tr th:only-of-type {\n",
       "        vertical-align: middle;\n",
       "    }\n",
       "\n",
       "    .dataframe tbody tr th {\n",
       "        vertical-align: top;\n",
       "    }\n",
       "\n",
       "    .dataframe thead th {\n",
       "        text-align: right;\n",
       "    }\n",
       "</style>\n",
       "<table border=\"1\" class=\"dataframe\">\n",
       "  <thead>\n",
       "    <tr style=\"text-align: right;\">\n",
       "      <th></th>\n",
       "      <th>Feature</th>\n",
       "      <th>Importance</th>\n",
       "    </tr>\n",
       "  </thead>\n",
       "  <tbody>\n",
       "    <tr>\n",
       "      <th>0</th>\n",
       "      <td>petal length (cm)</td>\n",
       "      <td>0.585616</td>\n",
       "    </tr>\n",
       "    <tr>\n",
       "      <th>1</th>\n",
       "      <td>petal width (cm)</td>\n",
       "      <td>0.414384</td>\n",
       "    </tr>\n",
       "  </tbody>\n",
       "</table>\n",
       "</div>"
      ],
      "text/plain": [
       "             Feature  Importance\n",
       "0  petal length (cm)    0.585616\n",
       "1   petal width (cm)    0.414384"
      ]
     },
     "metadata": {},
     "output_type": "display_data"
    }
   ],
   "source": [
    "imp = feature_importance_single_tree(clf.tree_)\n",
    "display.display(pd.Series(imp).rename('Importance').to_frame()\\\n",
    "                  .reset_index().rename(columns={'index':'Feature'}))"
   ]
  },
  {
   "cell_type": "code",
   "execution_count": 10,
   "metadata": {
    "slideshow": {
     "slide_type": "fragment"
    }
   },
   "outputs": [
    {
     "data": {
      "text/html": [
       "<div>\n",
       "<style scoped>\n",
       "    .dataframe tbody tr th:only-of-type {\n",
       "        vertical-align: middle;\n",
       "    }\n",
       "\n",
       "    .dataframe tbody tr th {\n",
       "        vertical-align: top;\n",
       "    }\n",
       "\n",
       "    .dataframe thead th {\n",
       "        text-align: right;\n",
       "    }\n",
       "</style>\n",
       "<table border=\"1\" class=\"dataframe\">\n",
       "  <thead>\n",
       "    <tr style=\"text-align: right;\">\n",
       "      <th></th>\n",
       "      <th>Feature</th>\n",
       "      <th>Importance</th>\n",
       "    </tr>\n",
       "  </thead>\n",
       "  <tbody>\n",
       "    <tr>\n",
       "      <th>2</th>\n",
       "      <td>petal length (cm)</td>\n",
       "      <td>0.585616</td>\n",
       "    </tr>\n",
       "    <tr>\n",
       "      <th>3</th>\n",
       "      <td>petal width (cm)</td>\n",
       "      <td>0.414384</td>\n",
       "    </tr>\n",
       "    <tr>\n",
       "      <th>0</th>\n",
       "      <td>sepal length (cm)</td>\n",
       "      <td>0.000000</td>\n",
       "    </tr>\n",
       "    <tr>\n",
       "      <th>1</th>\n",
       "      <td>sepal width (cm)</td>\n",
       "      <td>0.000000</td>\n",
       "    </tr>\n",
       "  </tbody>\n",
       "</table>\n",
       "</div>"
      ],
      "text/plain": [
       "             Feature  Importance\n",
       "2  petal length (cm)    0.585616\n",
       "3   petal width (cm)    0.414384\n",
       "0  sepal length (cm)    0.000000\n",
       "1   sepal width (cm)    0.000000"
      ]
     },
     "metadata": {},
     "output_type": "display_data"
    }
   ],
   "source": [
    "display.display(pd.DataFrame({'Feature': iris.feature_names,\n",
    "                              'Importance':clf.feature_importances_})\\\n",
    "                  .sort_values('Importance', ascending=False))"
   ]
  },
  {
   "cell_type": "markdown",
   "metadata": {
    "slideshow": {
     "slide_type": "subslide"
    }
   },
   "source": [
    "### Prediction-function-specific: Trees (Continued)\n",
    "\n",
    "- **Question**: How do we extend this to ensembles of trees?"
   ]
  },
  {
   "cell_type": "markdown",
   "metadata": {
    "slideshow": {
     "slide_type": "fragment"
    }
   },
   "source": [
    "- **Answer**: (Weighted) averages.\n",
    "    - Ex: Random Forests with $N_T$ trees:\n",
    "    \n",
    "$$Imp(X_m) = \\frac{1}{N_T}\\sum_T\\sum_{t \\in T:v(s_t)=X_m}p(t)\\Delta i(s_t,t)$$"
   ]
  },
  {
   "cell_type": "markdown",
   "metadata": {
    "slideshow": {
     "slide_type": "subslide"
    }
   },
   "source": [
    "### Prediction-function-specific: Trees (Continued)\n",
    "\n",
    "- Implementation vs. sklearn"
   ]
  },
  {
   "cell_type": "code",
   "execution_count": 11,
   "metadata": {
    "slideshow": {
     "slide_type": "fragment"
    }
   },
   "outputs": [
    {
     "data": {
      "text/html": [
       "<div>\n",
       "<style scoped>\n",
       "    .dataframe tbody tr th:only-of-type {\n",
       "        vertical-align: middle;\n",
       "    }\n",
       "\n",
       "    .dataframe tbody tr th {\n",
       "        vertical-align: top;\n",
       "    }\n",
       "\n",
       "    .dataframe thead th {\n",
       "        text-align: right;\n",
       "    }\n",
       "</style>\n",
       "<table border=\"1\" class=\"dataframe\">\n",
       "  <thead>\n",
       "    <tr style=\"text-align: right;\">\n",
       "      <th></th>\n",
       "      <th>Feature</th>\n",
       "      <th>Importance</th>\n",
       "    </tr>\n",
       "  </thead>\n",
       "  <tbody>\n",
       "    <tr>\n",
       "      <th>3</th>\n",
       "      <td>petal width (cm)</td>\n",
       "      <td>0.455781</td>\n",
       "    </tr>\n",
       "    <tr>\n",
       "      <th>2</th>\n",
       "      <td>petal length (cm)</td>\n",
       "      <td>0.415403</td>\n",
       "    </tr>\n",
       "    <tr>\n",
       "      <th>0</th>\n",
       "      <td>sepal length (cm)</td>\n",
       "      <td>0.102569</td>\n",
       "    </tr>\n",
       "    <tr>\n",
       "      <th>1</th>\n",
       "      <td>sepal width (cm)</td>\n",
       "      <td>0.026247</td>\n",
       "    </tr>\n",
       "  </tbody>\n",
       "</table>\n",
       "</div>"
      ],
      "text/plain": [
       "             Feature  Importance\n",
       "3   petal width (cm)    0.455781\n",
       "2  petal length (cm)    0.415403\n",
       "0  sepal length (cm)    0.102569\n",
       "1   sepal width (cm)    0.026247"
      ]
     },
     "metadata": {},
     "output_type": "display_data"
    }
   ],
   "source": [
    "from sklearn.ensemble import RandomForestClassifier\n",
    "forest = RandomForestClassifier(n_estimators=100) # Not tuned - just example\n",
    "forest.fit(iris.data, iris.target)\n",
    "display.display(pd.DataFrame({'Feature': iris.feature_names,\n",
    "                              'Importance':forest.feature_importances_})\\\n",
    "                  .sort_values('Importance', ascending=False))"
   ]
  },
  {
   "cell_type": "code",
   "execution_count": 12,
   "metadata": {
    "slideshow": {
     "slide_type": "fragment"
    }
   },
   "outputs": [
    {
     "data": {
      "text/html": [
       "<div>\n",
       "<style scoped>\n",
       "    .dataframe tbody tr th:only-of-type {\n",
       "        vertical-align: middle;\n",
       "    }\n",
       "\n",
       "    .dataframe tbody tr th {\n",
       "        vertical-align: top;\n",
       "    }\n",
       "\n",
       "    .dataframe thead th {\n",
       "        text-align: right;\n",
       "    }\n",
       "</style>\n",
       "<table border=\"1\" class=\"dataframe\">\n",
       "  <thead>\n",
       "    <tr style=\"text-align: right;\">\n",
       "      <th></th>\n",
       "      <th>Feature</th>\n",
       "      <th>Importance</th>\n",
       "    </tr>\n",
       "  </thead>\n",
       "  <tbody>\n",
       "    <tr>\n",
       "      <th>1</th>\n",
       "      <td>petal width (cm)</td>\n",
       "      <td>0.455781</td>\n",
       "    </tr>\n",
       "    <tr>\n",
       "      <th>0</th>\n",
       "      <td>petal length (cm)</td>\n",
       "      <td>0.415403</td>\n",
       "    </tr>\n",
       "    <tr>\n",
       "      <th>2</th>\n",
       "      <td>sepal length (cm)</td>\n",
       "      <td>0.102569</td>\n",
       "    </tr>\n",
       "    <tr>\n",
       "      <th>3</th>\n",
       "      <td>sepal width (cm)</td>\n",
       "      <td>0.026247</td>\n",
       "    </tr>\n",
       "  </tbody>\n",
       "</table>\n",
       "</div>"
      ],
      "text/plain": [
       "             Feature  Importance\n",
       "1   petal width (cm)    0.455781\n",
       "0  petal length (cm)    0.415403\n",
       "2  sepal length (cm)    0.102569\n",
       "3   sepal width (cm)    0.026247"
      ]
     },
     "metadata": {},
     "output_type": "display_data"
    }
   ],
   "source": [
    "forest_importance = defaultdict(float)\n",
    "for tree in forest.estimators_:\n",
    "    tree_importance = feature_importance_single_tree(tree.tree_)\n",
    "    \n",
    "    for key, val in tree_importance.items():\n",
    "        forest_importance[key] += val\n",
    "forest_importance = {key:val/len(forest.estimators_)\\\n",
    "                     for key, val in forest_importance.items()}\n",
    "\n",
    "display.display(pd.Series(forest_importance).rename('Importance').to_frame()\\\n",
    "                  .reset_index().rename(columns={'index':'Feature'})\\\n",
    "                  .sort_values('Importance', ascending=False))"
   ]
  },
  {
   "cell_type": "markdown",
   "metadata": {
    "slideshow": {
     "slide_type": "subslide"
    }
   },
   "source": [
    "### Prediction-function-specific: Trees (Continued)\n",
    "\n",
    "- Let's think about potential variants/extensions to mean decrease impurity.\n",
    "- How could we handle surrogate splits?"
   ]
  },
  {
   "cell_type": "markdown",
   "metadata": {
    "slideshow": {
     "slide_type": "fragment"
    }
   },
   "source": [
    "- Commercial implementation of [CART](https://www.salford-systems.com/support/faq/cart/what-is-variable-importance) adds contributions of surrogate splits:\n",
    "    - $\\Delta i(s_t,t)$ for primary split variable\n",
    "    - $p^n \\Delta i(s_t,t)$ for the $n$'th surrogate split variable (where $p \\in [0,1]$ is a user-selected hyperparameter).\n",
    "- **Question**: Can we think of any other variants or extensions?"
   ]
  },
  {
   "cell_type": "markdown",
   "metadata": {
    "slideshow": {
     "slide_type": "fragment"
    }
   },
   "source": [
    "- Consider collapsing the importance of dummy-encoded categoricals."
   ]
  },
  {
   "cell_type": "markdown",
   "metadata": {
    "slideshow": {
     "slide_type": "slide"
    }
   },
   "source": [
    "### Prediction-function-specific: Linear models\n",
    "\n",
    "- **Question**: How can we measure feature importance in a linear model?"
   ]
  },
  {
   "cell_type": "markdown",
   "metadata": {
    "slideshow": {
     "slide_type": "fragment"
    }
   },
   "source": [
    "$$imp(X_m) = \\big\\vert w_m \\big\\vert$$\n",
    "- **Question**: Per usual, how does this notion of importance interact with preprocessing?"
   ]
  },
  {
   "cell_type": "markdown",
   "metadata": {
    "slideshow": {
     "slide_type": "slide"
    }
   },
   "source": [
    "### Model-agnostic feature importance:\n",
    "\n",
    "- We've discussed two methods for algorithm or prediction-function specific feature importance measures:\n",
    "    - Trees (and their ensembles): Mean Decrease Impurity\n",
    "    - Linear methods: Absolute weights\n",
    "- **Question**: How could we determine the importance of input features for an arbitrary black box prediction function?"
   ]
  },
  {
   "cell_type": "markdown",
   "metadata": {
    "slideshow": {
     "slide_type": "fragment"
    }
   },
   "source": [
    "- Hint 1: Think about defining importance as by measuring how much each feature independently contributes to the performance of the learned model."
   ]
  },
  {
   "cell_type": "markdown",
   "metadata": {
    "slideshow": {
     "slide_type": "fragment"
    }
   },
   "source": [
    "\n",
    "- Hint 2: Imagine you were tasked with constructing a synthetic dataset with an unimportant feature -- how could you construct it? Given this insight, what operation could be applied to a feature that would be expected to have (a) no impact on the test set score for unimportant features, and (b) decrease performance for important features?"
   ]
  },
  {
   "cell_type": "markdown",
   "metadata": {
    "slideshow": {
     "slide_type": "subslide"
    }
   },
   "source": [
    "### Model-agnostic feature importance:\n",
    "\n",
    "##### Permutation Importance\n",
    "\n",
    "- Described by Breiman in the original Random Forests paper (using OOB sample).\n",
    "- We describe it using an arbitrary held-out test set:\n",
    "\n",
    "  1. Learn prediction function $f$ on training data.\n",
    "  2. Measure the performance of $f$ on the test set - call this $s_{0}$.\n",
    "  3. For each feature $i$ in $[1,\\cdots,D]$:\n",
    "    1. Permute just this feature in the test set.\n",
    "    2. Pass this permuted test set through $f$ to obtain a new score $s_{i}$.\n",
    "  4. Use either $s_{0} - s_{i}$ (or some appropriate variant on this idea) as feature importance."
   ]
  },
  {
   "cell_type": "markdown",
   "metadata": {
    "slideshow": {
     "slide_type": "subslide"
    }
   },
   "source": [
    "### Model-agnostic feature importance:\n",
    "\n",
    "##### Permutation Importance\n",
    "\n",
    "- **Question**: Why bother permuting the feature? Why not just drop it entirely?"
   ]
  },
  {
   "cell_type": "markdown",
   "metadata": {
    "slideshow": {
     "slide_type": "fragment"
    }
   },
   "source": [
    "- **Question**: Why bother permuting the feature? Why not replace it with some noise, like $\\mathcal{N}(0,1)$?"
   ]
  },
  {
   "cell_type": "markdown",
   "metadata": {
    "slideshow": {
     "slide_type": "subslide"
    }
   },
   "source": [
    "### Model-agnostic feature importance:\n",
    "\n",
    "##### Permutation Importance\n",
    "\n",
    "- **Question**: Is this any different than the following procedure? If so, how?\n",
    "\n",
    "  1. Learn prediction function $f$ on training data.\n",
    "  2. Measure the performance of $f$ on the test set - call this $s_{0}$.\n",
    "  3. For each feature $i$ in $[1,\\cdots,D]$:\n",
    "    1. Drop this feature from both the training and the test set.\n",
    "    2. Learn a new prediction function without this feature -- call this function $f_{\\setminus i}$\n",
    "    3. Measure the performance of $f_{\\setminus i}$ on the test set to obtain a new score $s_{i}$.\n",
    "  4. Use either $s_{0} - s_{i}$ as feature importance."
   ]
  },
  {
   "cell_type": "markdown",
   "metadata": {
    "slideshow": {
     "slide_type": "fragment"
    }
   },
   "source": [
    "- **Key difference**: Permutation importance (plus $\\big\\vert w \\big \\vert$ and MDI) describe the importance of each feature to a particular prediction function $f$. We don't claim that a feature with low permutation importance in $f$ couldn't have high importance in some other $f'$."
   ]
  },
  {
   "cell_type": "markdown",
   "metadata": {
    "slideshow": {
     "slide_type": "slide"
    }
   },
   "source": [
    "### Feature importance pitfalls:\n",
    "\n",
    "- To conclude our discussion of feature importance, we're going to look at an example to understand potential pitfalls.\n",
    "- We will compare:\n",
    "    - Permutation importance\n",
    "    - MDI for a gradient boosting regressor\n",
    "    - $\\big\\vert w \\big\\vert$ for an elastic net"
   ]
  },
  {
   "cell_type": "markdown",
   "metadata": {
    "slideshow": {
     "slide_type": "subslide"
    }
   },
   "source": [
    "### Feature importance pitfalls: Problem set up"
   ]
  },
  {
   "cell_type": "code",
   "execution_count": 14,
   "metadata": {
    "slideshow": {
     "slide_type": "fragment"
    }
   },
   "outputs": [],
   "source": [
    "import numpy as np\n",
    "size = 1000\n",
    "x1 = np.random.uniform(-10,10,size)\n",
    "z1 = np.random.uniform(-10,10,size)\n",
    "x2 = z1 + np.random.normal(0,2,size)\n",
    "x3 = z1 + np.random.normal(0,2,size)\n",
    "x4 = z1 + np.random.normal(0,2,size)\n",
    "\n",
    "def actual_function(x1,z1):\n",
    "    return -1./2.*x1 + z1 + np.random.normal(0,1,len(x1))\n",
    "\n",
    "y = actual_function(x1,z1)\n",
    "X = np.stack([x1,x2,x3,x4]).T"
   ]
  },
  {
   "cell_type": "markdown",
   "metadata": {
    "slideshow": {
     "slide_type": "fragment"
    }
   },
   "source": [
    "- **Question**: Which feature is most important (i.e. contributes most to the true conditional mean function)?"
   ]
  },
  {
   "cell_type": "markdown",
   "metadata": {
    "slideshow": {
     "slide_type": "fragment"
    }
   },
   "source": [
    "- **Question**: Why might we expect this problem to challenge our feature importance methods?"
   ]
  },
  {
   "cell_type": "code",
   "execution_count": 43,
   "metadata": {
    "slideshow": {
     "slide_type": "fragment"
    }
   },
   "outputs": [
    {
     "data": {
      "text/html": [
       "<div id=\"344c507e01e5573d\"></div>\n",
       "    <script type=\"text/javascript\">\n",
       "        $(function(){\n",
       "            var p = $(\"#344c507e01e5573d\");\n",
       "            if (p.length==0) return;\n",
       "\n",
       "            while (!p.hasClass(\"cell\")) {\n",
       "                p=p.parent();\n",
       "\n",
       "                if (p.prop(\"tagName\") ==\"body\") return;\n",
       "            }\n",
       "            var cell = p;\n",
       "            cell.find(\".input\").addClass(\"hide-in-slideshow\")\n",
       "        });\n",
       "    </script>"
      ]
     },
     "metadata": {},
     "output_type": "display_data"
    },
    {
     "data": {
      "text/markdown": [
       "## Correlation matrix:"
      ],
      "text/plain": [
       "<IPython.core.display.Markdown object>"
      ]
     },
     "metadata": {},
     "output_type": "display_data"
    },
    {
     "data": {
      "text/html": [
       "<div>\n",
       "<style scoped>\n",
       "    .dataframe tbody tr th:only-of-type {\n",
       "        vertical-align: middle;\n",
       "    }\n",
       "\n",
       "    .dataframe tbody tr th {\n",
       "        vertical-align: top;\n",
       "    }\n",
       "\n",
       "    .dataframe thead th {\n",
       "        text-align: right;\n",
       "    }\n",
       "</style>\n",
       "<table border=\"1\" class=\"dataframe\">\n",
       "  <thead>\n",
       "    <tr style=\"text-align: right;\">\n",
       "      <th></th>\n",
       "      <th>$x_0$</th>\n",
       "      <th>$x_1$</th>\n",
       "      <th>$x_2$</th>\n",
       "      <th>$x_3$</th>\n",
       "    </tr>\n",
       "  </thead>\n",
       "  <tbody>\n",
       "    <tr>\n",
       "      <th>$x_0$</th>\n",
       "      <td>1.000000</td>\n",
       "      <td>-0.057013</td>\n",
       "      <td>-0.037270</td>\n",
       "      <td>-0.042008</td>\n",
       "    </tr>\n",
       "    <tr>\n",
       "      <th>$x_1$</th>\n",
       "      <td>-0.057013</td>\n",
       "      <td>1.000000</td>\n",
       "      <td>0.901286</td>\n",
       "      <td>0.898897</td>\n",
       "    </tr>\n",
       "    <tr>\n",
       "      <th>$x_2$</th>\n",
       "      <td>-0.037270</td>\n",
       "      <td>0.901286</td>\n",
       "      <td>1.000000</td>\n",
       "      <td>0.903997</td>\n",
       "    </tr>\n",
       "    <tr>\n",
       "      <th>$x_3$</th>\n",
       "      <td>-0.042008</td>\n",
       "      <td>0.898897</td>\n",
       "      <td>0.903997</td>\n",
       "      <td>1.000000</td>\n",
       "    </tr>\n",
       "  </tbody>\n",
       "</table>\n",
       "</div>"
      ],
      "text/plain": [
       "          $x_0$     $x_1$     $x_2$     $x_3$\n",
       "$x_0$  1.000000 -0.057013 -0.037270 -0.042008\n",
       "$x_1$ -0.057013  1.000000  0.901286  0.898897\n",
       "$x_2$ -0.037270  0.901286  1.000000  0.903997\n",
       "$x_3$ -0.042008  0.898897  0.903997  1.000000"
      ]
     },
     "metadata": {},
     "output_type": "display_data"
    }
   ],
   "source": [
    "hide_code_in_slideshow()\n",
    "corr = pd.DataFrame(X).corr()\n",
    "corr.index = ['$x_{}$'.format(x) for x in range(4)]\n",
    "corr.columns = ['$x_{}$'.format(x) for x in range(4)]\n",
    "display.display(display.Markdown('## Correlation matrix:'))\n",
    "display.display(corr)"
   ]
  },
  {
   "cell_type": "markdown",
   "metadata": {
    "slideshow": {
     "slide_type": "subslide"
    }
   },
   "source": [
    "### Feature importance pitfalls: Prediction functions"
   ]
  },
  {
   "cell_type": "code",
   "execution_count": 26,
   "metadata": {
    "slideshow": {
     "slide_type": "fragment"
    }
   },
   "outputs": [],
   "source": [
    "from sklearn.model_selection import train_test_split\n",
    "from sklearn.ensemble import GradientBoostingRegressor\n",
    "from sklearn.model_selection import GridSearchCV\n",
    "\n",
    "train_X, test_X, train_y, test_y = train_test_split(X,y,test_size=0.2,\n",
    "                                                    random_state=1345134)\n",
    "reg = GradientBoostingRegressor(n_estimators=200,subsample=0.5,\n",
    "                                random_state=3141)\n",
    "grid = GridSearchCV(reg,\n",
    "                    param_grid={\n",
    "                        'max_leaf_nodes':[10,25,50],\n",
    "                        'min_samples_leaf':[10,25,50]\n",
    "                    }, n_jobs=5, cv=5)\n",
    "grid = grid.fit(train_X, train_y)"
   ]
  },
  {
   "cell_type": "code",
   "execution_count": 27,
   "metadata": {
    "slideshow": {
     "slide_type": "fragment"
    }
   },
   "outputs": [],
   "source": [
    "imp = pd.DataFrame({'Feature': ['$x_{}$'.format(i) for i in range(1,5)],\n",
    "                    'GBM Importance':grid.best_estimator_.feature_importances_})"
   ]
  },
  {
   "cell_type": "markdown",
   "metadata": {
    "slideshow": {
     "slide_type": "subslide"
    }
   },
   "source": [
    "### Feature Importance: Permutation Importance implementation"
   ]
  },
  {
   "cell_type": "code",
   "execution_count": 28,
   "metadata": {
    "slideshow": {
     "slide_type": "fragment"
    }
   },
   "outputs": [],
   "source": [
    "import eli5\n",
    "from eli5.sklearn import PermutationImportance\n",
    "\n",
    "perm = PermutationImportance(grid)\n",
    "perm.fit(test_X, test_y)\n",
    "\n",
    "imp['GBM Permutation'] = perm.feature_importances_"
   ]
  },
  {
   "cell_type": "markdown",
   "metadata": {
    "slideshow": {
     "slide_type": "subslide"
    }
   },
   "source": [
    "### Feature Importance: Elastic Net"
   ]
  },
  {
   "cell_type": "code",
   "execution_count": 29,
   "metadata": {
    "slideshow": {
     "slide_type": "fragment"
    }
   },
   "outputs": [],
   "source": [
    "from sklearn.linear_model import ElasticNetCV\n",
    "\n",
    "enet = ElasticNetCV(l1_ratio=np.array([.1, .5, .7, .9, .95, .99, 1]),\n",
    "                    n_alphas=500,\n",
    "                    normalize=True,\n",
    "                    selection='random',\n",
    "                    cv=5,\n",
    "                    random_state=1351)\n",
    "enet.fit(train_X, train_y)\n",
    "\n",
    "imp['Elastic Net $\\\\vert w \\\\vert$'] = np.abs(enet.coef_)\n",
    "\n",
    "perm2 = PermutationImportance(enet)\n",
    "perm2.fit(test_X, test_y)\n",
    "\n",
    "imp['Elastic Net Permutation'] = perm2.feature_importances_"
   ]
  },
  {
   "cell_type": "markdown",
   "metadata": {
    "slideshow": {
     "slide_type": "subslide"
    }
   },
   "source": [
    "### Feature Importance: Results\n",
    "\n",
    "- Recall $E[y~\\big\\vert~x_1,z] = -\\frac{1}{2}x_1+z$. However, we don't observe $z$ -- instead have 3 indepedent noisy observations $x_2,x_3,x_4$. Trying to estimate $E[y~\\big\\vert~x_1,\\cdots,x_4]$"
   ]
  },
  {
   "cell_type": "code",
   "execution_count": 30,
   "metadata": {
    "slideshow": {
     "slide_type": "fragment"
    }
   },
   "outputs": [
    {
     "data": {
      "text/html": [
       "<div id=\"29587307a862a5af\"></div>\n",
       "    <script type=\"text/javascript\">\n",
       "        $(function(){\n",
       "            var p = $(\"#29587307a862a5af\");\n",
       "            if (p.length==0) return;\n",
       "\n",
       "            while (!p.hasClass(\"cell\")) {\n",
       "                p=p.parent();\n",
       "\n",
       "                if (p.prop(\"tagName\") ==\"body\") return;\n",
       "            }\n",
       "            var cell = p;\n",
       "            cell.find(\".input\").addClass(\"hide-in-slideshow\")\n",
       "        });\n",
       "    </script>"
      ]
     },
     "metadata": {},
     "output_type": "display_data"
    },
    {
     "data": {
      "text/html": [
       "<div>\n",
       "<style scoped>\n",
       "    .dataframe tbody tr th:only-of-type {\n",
       "        vertical-align: middle;\n",
       "    }\n",
       "\n",
       "    .dataframe tbody tr th {\n",
       "        vertical-align: top;\n",
       "    }\n",
       "\n",
       "    .dataframe thead th {\n",
       "        text-align: right;\n",
       "    }\n",
       "</style>\n",
       "<table border=\"1\" class=\"dataframe\">\n",
       "  <thead>\n",
       "    <tr style=\"text-align: right;\">\n",
       "      <th></th>\n",
       "      <th>GBM Importance</th>\n",
       "      <th>GBM Permutation</th>\n",
       "      <th>Elastic Net $\\vert w \\vert$</th>\n",
       "      <th>Elastic Net Permutation</th>\n",
       "    </tr>\n",
       "    <tr>\n",
       "      <th>Feature</th>\n",
       "      <th></th>\n",
       "      <th></th>\n",
       "      <th></th>\n",
       "      <th></th>\n",
       "    </tr>\n",
       "  </thead>\n",
       "  <tbody>\n",
       "    <tr>\n",
       "      <th>$x_1$</th>\n",
       "      <td>0.266826</td>\n",
       "      <td>0.406382</td>\n",
       "      <td>0.505771</td>\n",
       "      <td>0.420581</td>\n",
       "    </tr>\n",
       "    <tr>\n",
       "      <th>$x_2$</th>\n",
       "      <td>0.241997</td>\n",
       "      <td>0.172980</td>\n",
       "      <td>0.323082</td>\n",
       "      <td>0.172499</td>\n",
       "    </tr>\n",
       "    <tr>\n",
       "      <th>$x_3$</th>\n",
       "      <td>0.244454</td>\n",
       "      <td>0.183782</td>\n",
       "      <td>0.316040</td>\n",
       "      <td>0.165906</td>\n",
       "    </tr>\n",
       "    <tr>\n",
       "      <th>$x_4$</th>\n",
       "      <td>0.246723</td>\n",
       "      <td>0.170095</td>\n",
       "      <td>0.315358</td>\n",
       "      <td>0.178835</td>\n",
       "    </tr>\n",
       "  </tbody>\n",
       "</table>\n",
       "</div>"
      ],
      "text/plain": [
       "         GBM Importance  GBM Permutation  Elastic Net $\\vert w \\vert$  \\\n",
       "Feature                                                                 \n",
       "$x_1$          0.266826         0.406382                     0.505771   \n",
       "$x_2$          0.241997         0.172980                     0.323082   \n",
       "$x_3$          0.244454         0.183782                     0.316040   \n",
       "$x_4$          0.246723         0.170095                     0.315358   \n",
       "\n",
       "         Elastic Net Permutation  \n",
       "Feature                           \n",
       "$x_1$                   0.420581  \n",
       "$x_2$                   0.172499  \n",
       "$x_3$                   0.165906  \n",
       "$x_4$                   0.178835  "
      ]
     },
     "metadata": {},
     "output_type": "display_data"
    }
   ],
   "source": [
    "hide_code_in_slideshow()\n",
    "display.display(imp.set_index('Feature'))"
   ]
  },
  {
   "cell_type": "markdown",
   "metadata": {
    "slideshow": {
     "slide_type": "subslide"
    }
   },
   "source": [
    "### Feature Importance: Results\n",
    "\n",
    "- Recall $E[y~\\big\\vert~x_1,z] = -\\frac{1}{2}x_1+z$. However, we don't observe $z$ -- instead have 3 indepedent noisy observations $x_2,x_3,x_4$. Trying to estimate $E[y~\\big\\vert~x_1,\\cdots,x_4]$"
   ]
  },
  {
   "cell_type": "code",
   "execution_count": 31,
   "metadata": {
    "slideshow": {
     "slide_type": "fragment"
    }
   },
   "outputs": [
    {
     "data": {
      "text/html": [
       "<div id=\"45ca31c4f192ac2f\"></div>\n",
       "    <script type=\"text/javascript\">\n",
       "        $(function(){\n",
       "            var p = $(\"#45ca31c4f192ac2f\");\n",
       "            if (p.length==0) return;\n",
       "\n",
       "            while (!p.hasClass(\"cell\")) {\n",
       "                p=p.parent();\n",
       "\n",
       "                if (p.prop(\"tagName\") ==\"body\") return;\n",
       "            }\n",
       "            var cell = p;\n",
       "            cell.find(\".input\").addClass(\"hide-in-slideshow\")\n",
       "        });\n",
       "    </script>"
      ]
     },
     "metadata": {},
     "output_type": "display_data"
    },
    {
     "data": {
      "image/png": "[encoded data removed]",
      "text/plain": [
       "<Figure size 864x576 with 1 Axes>"
      ]
     },
     "metadata": {},
     "output_type": "display_data"
    }
   ],
   "source": [
    "hide_code_in_slideshow()\n",
    "sns.set_context('notebook',font_scale=2)\n",
    "fig, ax = plt.subplots(figsize=(12,8))\n",
    "plot = imp.set_index('Feature').plot(kind='bar', ax=ax)"
   ]
  },
  {
   "cell_type": "markdown",
   "metadata": {
    "slideshow": {
     "slide_type": "fragment"
    }
   },
   "source": [
    "- What are the implications, and what can we learn from this experiment?"
   ]
  },
  {
   "cell_type": "markdown",
   "metadata": {
    "slideshow": {
     "slide_type": "slide"
    }
   },
   "source": [
    "### Partial Dependence Plots\n",
    "\n",
    "- Imagine we have a subset of features we think are important.\n",
    "    - This could be based on \"feature importance\" scores or coefficients, or other reasons (i.e. prior knowledge/research questions/etc.).\n",
    "    - We may want to dig deeper to explain the relationship between our predictions and these features.\n",
    "    - **Question**: Why? If we have MDI feature importance scores in hand, what do we not know?"
   ]
  },
  {
   "cell_type": "markdown",
   "metadata": {
    "slideshow": {
     "slide_type": "fragment"
    }
   },
   "source": [
    "\n",
    "- Directionality:\n",
    "    - Note in reality we probably have complex, non-monotonic relationships\n",
    "    - However even if we have a monotonic relationship, or even linear, our MDI wouldn't give any indication on the direction -- obviously weights in a linear model would.\n",
    "- Partial dependence plots let us dig deeper and visualize the dependence of our prediction function (i.e. predict/predict_proba) on one or two of these features."
   ]
  },
  {
   "cell_type": "markdown",
   "metadata": {
    "slideshow": {
     "slide_type": "subslide"
    }
   },
   "source": [
    "### Partial Dependence Plots: Setup\n",
    "\n",
    "- Consider an arbitrary prediction function $f$ learned over a training set $\\mathcal{D}$.\n",
    "- This dataset includes $N$ observations $y_i$ of a target $y$ for $i = 1,2,\\cdots,N$, along with $p$ features denoted $x_{i,j}$ for $j=1,2,\\cdots,p$ and $i=1,2,\\cdots,N$. This model generates predictions of the form:\n",
    "$$\\hat{y}_i = f(x_{i,1},x_{i,2},\\cdots,x_{i,p})$$\n",
    "\n",
    "- In the case of a single feature $x_j$, Friedman's partial dependence plots are obtained by computing the following average and plotting it over a useful range of $x$ values:\n",
    "$$\\phi_j(x) = \\frac{1}{N}\\sum_{i=1}^N f(x_{i,1},\\cdots,x_{i,j-1},x,x_{i,j+1},\\cdots,x_{i,p})$$"
   ]
  },
  {
   "cell_type": "markdown",
   "metadata": {
    "slideshow": {
     "slide_type": "fragment"
    }
   },
   "source": [
    "- PDPs for more than one variable are computed (and plotted) similarly.\n",
    "- **Question**: What would $\\phi_j(x)$ be for a linear prediction function?"
   ]
  },
  {
   "cell_type": "markdown",
   "metadata": {
    "slideshow": {
     "slide_type": "subslide"
    }
   },
   "source": [
    "### Partial Dependence Plots: Setup\n",
    "\n",
    "$$\\phi_j(x) = \\frac{1}{N}\\sum_{i=1}^N f(x_{i,1},\\cdots,x_{i,j-1},x,x_{i,j+1},\\cdots,x_{i,p})$$\n",
    "- **Question**: Think about $\\phi_j(x)$ -- what issues can we already anticipate?"
   ]
  },
  {
   "cell_type": "markdown",
   "metadata": {
    "slideshow": {
     "slide_type": "fragment"
    }
   },
   "source": [
    "- Imagine $P(x_j = x_{j+1}) = 1$. Then even though there is zero density where $x_j \\ne x_{j+1}$, we still can evaluate $\\phi_j(x)$ at $x \\ne x_{i, j+1}$ for all $i \\in {1,\\cdots,n}$.\n",
    "- **Previewing what's next**: Think about the potential impact of taking the average $\\frac{1}{N}\\sum_{i=1}^N (\\cdot) $"
   ]
  },
  {
   "cell_type": "markdown",
   "metadata": {
    "slideshow": {
     "slide_type": "subslide"
    }
   },
   "source": [
    "### PDP Example: California Housing\n",
    "\n",
    "- Example derived from `sklearn` PDP example, using `sklearn` utilities.\n",
    "- While not shown, we first train a GBM on the California Housing dataset:"
   ]
  },
  {
   "cell_type": "code",
   "execution_count": 33,
   "metadata": {
    "slideshow": {
     "slide_type": "skip"
    }
   },
   "outputs": [],
   "source": [
    "import numpy as np\n",
    "import matplotlib.pyplot as plt\n",
    "\n",
    "from mpl_toolkits.mplot3d import Axes3D\n",
    "\n",
    "from sklearn.model_selection import train_test_split\n",
    "from sklearn.ensemble import GradientBoostingRegressor\n",
    "from sklearn.ensemble.partial_dependence import plot_partial_dependence\n",
    "from sklearn.ensemble.partial_dependence import partial_dependence\n",
    "from sklearn.datasets.california_housing import fetch_california_housing\n",
    "\n",
    "cal_housing = fetch_california_housing()\n",
    "\n",
    "# split 80/20 train-test\n",
    "X_train, X_test, y_train, y_test = train_test_split(cal_housing.data,\n",
    "                                                    cal_housing.target,\n",
    "                                                    test_size=0.2,\n",
    "                                                    random_state=1)\n",
    "names = cal_housing.feature_names\n",
    "\n",
    "reg = GradientBoostingRegressor(n_estimators=200,subsample=0.5,\n",
    "                                random_state=3141)\n",
    "reg = reg.fit(X_train, y_train)"
   ]
  },
  {
   "cell_type": "code",
   "execution_count": 34,
   "metadata": {
    "slideshow": {
     "slide_type": "fragment"
    }
   },
   "outputs": [
    {
     "data": {
      "text/html": [
       "<div id=\"a0bcbd24ba811b05\"></div>\n",
       "    <script type=\"text/javascript\">\n",
       "        $(function(){\n",
       "            var p = $(\"#a0bcbd24ba811b05\");\n",
       "            if (p.length==0) return;\n",
       "\n",
       "            while (!p.hasClass(\"cell\")) {\n",
       "                p=p.parent();\n",
       "\n",
       "                if (p.prop(\"tagName\") ==\"body\") return;\n",
       "            }\n",
       "            var cell = p;\n",
       "            cell.find(\".input\").addClass(\"hide-in-slideshow\")\n",
       "        });\n",
       "    </script>"
      ]
     },
     "metadata": {},
     "output_type": "display_data"
    },
    {
     "name": "stdout",
     "output_type": "stream",
     "text": [
      "California housing dataset.\n",
      "\n",
      "The original database is available from StatLib\n",
      "\n",
      "    http://lib.stat.cmu.edu/datasets/\n",
      "\n",
      "The data contains 20,640 observations on 9 variables.\n",
      "\n",
      "This dataset contains the average house value as target variable\n",
      "and the following input variables (features): average income,\n",
      "housing average age, average rooms, average bedrooms, population,\n",
      "average occupation, latitude, and longitude in that order.\n",
      "\n",
      "References\n",
      "----------\n",
      "\n",
      "Pace, R. Kelley and Ronald Barry, Sparse Spatial Autoregressions,\n",
      "Statistics and Probability Letters, 33 (1997) 291-297.\n",
      "\n",
      "\n"
     ]
    }
   ],
   "source": [
    "hide_code_in_slideshow()\n",
    "print(cal_housing.DESCR)"
   ]
  },
  {
   "cell_type": "markdown",
   "metadata": {
    "slideshow": {
     "slide_type": "subslide"
    }
   },
   "source": [
    "### PDP Example: California Housing\n",
    "\n",
    "- Example derived from `sklearn` PDP example, using `sklearn` utilities.\n",
    "- While not shown, we first train a GBM on the California Housing dataset:"
   ]
  },
  {
   "cell_type": "code",
   "execution_count": 35,
   "metadata": {
    "slideshow": {
     "slide_type": "fragment"
    }
   },
   "outputs": [
    {
     "data": {
      "text/html": [
       "<div id=\"08fee0599b83282b\"></div>\n",
       "    <script type=\"text/javascript\">\n",
       "        $(function(){\n",
       "            var p = $(\"#08fee0599b83282b\");\n",
       "            if (p.length==0) return;\n",
       "\n",
       "            while (!p.hasClass(\"cell\")) {\n",
       "                p=p.parent();\n",
       "\n",
       "                if (p.prop(\"tagName\") ==\"body\") return;\n",
       "            }\n",
       "            var cell = p;\n",
       "            cell.find(\".input\").addClass(\"hide-in-slideshow\")\n",
       "        });\n",
       "    </script>"
      ]
     },
     "metadata": {},
     "output_type": "display_data"
    },
    {
     "data": {
      "image/png": "[encoded data removed]",
      "text/plain": [
       "<Figure size 864x432 with 1 Axes>"
      ]
     },
     "metadata": {},
     "output_type": "display_data"
    }
   ],
   "source": [
    "hide_code_in_slideshow()\n",
    "fig, ax = plt.subplots(figsize=(12,6))\n",
    "plot = pd.Series(reg.feature_importances_,\n",
    "                          index=names).rename('MDI').to_frame()\\\n",
    "                  .sort_values('MDI', ascending=False).plot(kind='bar',ax=ax,\n",
    "                                                            title='Importance: Mean Decrease Impurity')"
   ]
  },
  {
   "cell_type": "markdown",
   "metadata": {
    "slideshow": {
     "slide_type": "subslide"
    }
   },
   "source": [
    "### PDP Example: California Housing\n",
    "\n",
    "- Next, we present the PDPs for several single features, and one pair of features."
   ]
  },
  {
   "cell_type": "code",
   "execution_count": 36,
   "metadata": {
    "slideshow": {
     "slide_type": "fragment"
    }
   },
   "outputs": [
    {
     "data": {
      "text/html": [
       "<div id=\"fa71394f7efa2e93\"></div>\n",
       "    <script type=\"text/javascript\">\n",
       "        $(function(){\n",
       "            var p = $(\"#fa71394f7efa2e93\");\n",
       "            if (p.length==0) return;\n",
       "\n",
       "            while (!p.hasClass(\"cell\")) {\n",
       "                p=p.parent();\n",
       "\n",
       "                if (p.prop(\"tagName\") ==\"body\") return;\n",
       "            }\n",
       "            var cell = p;\n",
       "            cell.find(\".input\").addClass(\"hide-in-slideshow\")\n",
       "        });\n",
       "    </script>"
      ]
     },
     "metadata": {},
     "output_type": "display_data"
    },
    {
     "data": {
      "image/png": "[encoded data removed]",
      "text/plain": [
       "<Figure size 864x720 with 5 Axes>"
      ]
     },
     "metadata": {},
     "output_type": "display_data"
    }
   ],
   "source": [
    "hide_code_in_slideshow()\n",
    "features = [0, 5, 1, 2, (5, 1)]\n",
    "fig, ax = plt.subplots(figsize=(12,10))\n",
    "fig, ax = plot_partial_dependence(reg, X_train, features,\n",
    "                                  feature_names=names,\n",
    "                                  n_jobs=3, grid_resolution=50,\n",
    "                                  ax=ax)\n",
    "fig.suptitle('Partial dependence of house value on nonlocation features')\n",
    "plt.subplots_adjust(top=0.9)  # tight_layout causes overlap with suptitle\n",
    "plt.show()"
   ]
  },
  {
   "cell_type": "markdown",
   "metadata": {
    "slideshow": {
     "slide_type": "subslide"
    }
   },
   "source": [
    "### PDP Example: California Housing\n",
    "\n",
    "- Note we don't plot the spatial features -- in fact, what would perhaps be most interesting (and a potential optional extension for indidivual exploration) would be to plot the long/lat PDP over a base map.\n",
    "    - An easy python first pass might simply use `geopandas.`"
   ]
  },
  {
   "cell_type": "markdown",
   "metadata": {
    "slideshow": {
     "slide_type": "subslide"
    }
   },
   "source": [
    "### PDP Pitfalls:\n",
    "\n",
    "- Consider the following PDP for a regression problem with $\\mathcal{Y} = \\mathbb{R}$ and $X = \\mathbb{R}^3$."
   ]
  },
  {
   "cell_type": "code",
   "execution_count": 37,
   "metadata": {
    "slideshow": {
     "slide_type": "skip"
    }
   },
   "outputs": [],
   "source": [
    "size = 10000\n",
    "X1 = np.random.uniform(-1,1,size)\n",
    "X2 = np.random.uniform(-1,1,size)\n",
    "X3 = np.random.uniform(-1,1,size)\n",
    "eps = np.random.normal(0,0.5,size)\n",
    "\n",
    "Y = 0.2*X1 - 5*X2 + 10*X2*np.where(X3>=0,1,0) + eps\n",
    "\n",
    "Xs = np.stack([X1,X2,X3]).T"
   ]
  },
  {
   "cell_type": "code",
   "execution_count": 38,
   "metadata": {
    "scrolled": true,
    "slideshow": {
     "slide_type": "skip"
    }
   },
   "outputs": [],
   "source": [
    "clf = GradientBoostingRegressor(max_depth=3)\n",
    "params = {'n_estimators':[50,100,200]}\n",
    "grid = GridSearchCV(clf, param_grid = params, n_jobs = 5, cv = 5)\n",
    "grid = grid.fit(Xs,Y)"
   ]
  },
  {
   "cell_type": "code",
   "execution_count": 39,
   "metadata": {
    "slideshow": {
     "slide_type": "fragment"
    }
   },
   "outputs": [
    {
     "data": {
      "text/html": [
       "<div id=\"346734a4e77a91d0\"></div>\n",
       "    <script type=\"text/javascript\">\n",
       "        $(function(){\n",
       "            var p = $(\"#346734a4e77a91d0\");\n",
       "            if (p.length==0) return;\n",
       "\n",
       "            while (!p.hasClass(\"cell\")) {\n",
       "                p=p.parent();\n",
       "\n",
       "                if (p.prop(\"tagName\") ==\"body\") return;\n",
       "            }\n",
       "            var cell = p;\n",
       "            cell.find(\".input\").addClass(\"hide-in-slideshow\")\n",
       "        });\n",
       "    </script>"
      ]
     },
     "metadata": {},
     "output_type": "display_data"
    },
    {
     "data": {
      "image/png": "[encoded data removed]",
      "text/plain": [
       "<Figure size 864x576 with 1 Axes>"
      ]
     },
     "metadata": {},
     "output_type": "display_data"
    }
   ],
   "source": [
    "hide_code_in_slideshow()\n",
    "fig, ax = plt.subplots(figsize=(12,8))\n",
    "plot_partial_dependence(grid.best_estimator_, Xs, [1],\n",
    "                        n_jobs=1, grid_resolution=25, ax=ax)\n",
    "plt.xlim(-1,1)\n",
    "plt.ylim(-6,6)\n",
    "plt.xlabel('$X_1$')\n",
    "\n",
    "pass"
   ]
  },
  {
   "cell_type": "markdown",
   "metadata": {
    "slideshow": {
     "slide_type": "fragment"
    }
   },
   "source": [
    "- **Question**: What can we learn about the relationship between feature $X_2$ and our target $Y$?"
   ]
  },
  {
   "cell_type": "markdown",
   "metadata": {
    "slideshow": {
     "slide_type": "subslide"
    }
   },
   "source": [
    "### PDP Pitfalls:\n",
    "\n",
    "- Here was the data generating process:"
   ]
  },
  {
   "cell_type": "code",
   "execution_count": 40,
   "metadata": {
    "slideshow": {
     "slide_type": "fragment"
    }
   },
   "outputs": [],
   "source": [
    "size = 10000\n",
    "X1 = np.random.uniform(-1,1,size)\n",
    "X2 = np.random.uniform(-1,1,size)\n",
    "X3 = np.random.uniform(-1,1,size)\n",
    "eps = np.random.normal(0,0.5,size)\n",
    "Y = 0.2*X1 - 5*X2 + 10*X2*np.where(X3>=0,1,0) + eps\n",
    "\n",
    "Xs = np.stack([X1,X2,X3]).T"
   ]
  },
  {
   "cell_type": "code",
   "execution_count": 41,
   "metadata": {
    "slideshow": {
     "slide_type": "fragment"
    }
   },
   "outputs": [
    {
     "data": {
      "text/html": [
       "<div id=\"f7ea16e0001db5f2\"></div>\n",
       "    <script type=\"text/javascript\">\n",
       "        $(function(){\n",
       "            var p = $(\"#f7ea16e0001db5f2\");\n",
       "            if (p.length==0) return;\n",
       "\n",
       "            while (!p.hasClass(\"cell\")) {\n",
       "                p=p.parent();\n",
       "\n",
       "                if (p.prop(\"tagName\") ==\"body\") return;\n",
       "            }\n",
       "            var cell = p;\n",
       "            cell.find(\".input\").addClass(\"hide-in-slideshow\")\n",
       "        });\n",
       "    </script>"
      ]
     },
     "metadata": {},
     "output_type": "display_data"
    },
    {
     "data": {
      "image/png": "[encoded data removed]",
      "text/plain": [
       "<Figure size 864x576 with 1 Axes>"
      ]
     },
     "metadata": {},
     "output_type": "display_data"
    }
   ],
   "source": [
    "hide_code_in_slideshow()\n",
    "fig, ax = plt.subplots(figsize=(12,8))\n",
    "plt.scatter(X2[X3>=0], Y[X3>=0], color='blue', label='$X_3>=0$')\n",
    "plt.scatter(X2[X3<0], Y[X3<0], color='green', label='$X_3<0$')\n",
    "plt.ylabel('$Y$')\n",
    "plt.xlabel('$X_2$')\n",
    "plt.legend()\n",
    "plt.show()"
   ]
  },
  {
   "cell_type": "markdown",
   "metadata": {
    "slideshow": {
     "slide_type": "subslide"
    }
   },
   "source": [
    "### PDP Pitfalls:\n",
    "\n",
    "- Recall $$y = 0.2 x_1 - 5 x_2 + 10 x_2 \\mathbb{1}(x_3 >= 0) + \\varepsilon$$\n",
    "- **Question**: Why does the PDP fail to reveal the dependence of $y$ on $x_2$?"
   ]
  },
  {
   "cell_type": "markdown",
   "metadata": {
    "slideshow": {
     "slide_type": "fragment"
    }
   },
   "source": [
    "In his gradient boosting paper, Friedman identified this issue (here presented in our notation):\n",
    "\n",
    "- In general, the functional form of $\\phi_j(x)$ will depend on the particular values chosen for $\\setminus j$. If, however, this dependence is **not to strong** than the average function can represent a useful summary of the partial dependence of $f$ on the chosen variable subset $j$."
   ]
  },
  {
   "cell_type": "markdown",
   "metadata": {
    "slideshow": {
     "slide_type": "subslide"
    }
   },
   "source": [
    "### PDP Pitfalls: Another option\n",
    "\n",
    "- One response to this shortcoming has been development of \"Individual Conditional Expectation\" plots -- see [Goldstein et al, 2014](https://arxiv.org/pdf/1309.6392.pdf).\n",
    "- Their insight was that taking an average is a post-processing step that can mask structure.\n",
    "- We'll use the [`SauceCat/PDPbox`](https://github.com/SauceCat/PDPbox) implementation."
   ]
  },
  {
   "cell_type": "code",
   "execution_count": 42,
   "metadata": {
    "slideshow": {
     "slide_type": "fragment"
    }
   },
   "outputs": [
    {
     "data": {
      "text/html": [
       "<div id=\"ef4efac2d60639ee\"></div>\n",
       "    <script type=\"text/javascript\">\n",
       "        $(function(){\n",
       "            var p = $(\"#ef4efac2d60639ee\");\n",
       "            if (p.length==0) return;\n",
       "\n",
       "            while (!p.hasClass(\"cell\")) {\n",
       "                p=p.parent();\n",
       "\n",
       "                if (p.prop(\"tagName\") ==\"body\") return;\n",
       "            }\n",
       "            var cell = p;\n",
       "            cell.find(\".input\").addClass(\"hide-in-slideshow\")\n",
       "        });\n",
       "    </script>"
      ]
     },
     "metadata": {},
     "output_type": "display_data"
    },
    {
     "data": {
      "image/png": "[encoded data removed]",
      "text/plain": [
       "<Figure size 1152x648 with 2 Axes>"
      ]
     },
     "metadata": {},
     "output_type": "display_data"
    }
   ],
   "source": [
    "hide_code_in_slideshow()\n",
    "from pdpbox import pdp\n",
    "\n",
    "train = pd.DataFrame(Xs)\n",
    "train.columns = [str(x) for x in train.columns]\n",
    "\n",
    "pdp_one = pdp.pdp_isolate(grid, train, '1')\n",
    "pdp.pdp_plot(pdp_one, '$x_1$',\n",
    "             plot_org_pts=True, plot_lines=True,\n",
    "             center=False, frac_to_plot=1000)"
   ]
  },
  {
   "cell_type": "markdown",
   "metadata": {
    "slideshow": {
     "slide_type": "fragment"
    }
   },
   "source": [
    "- **Question**: Note the average (i.e. classic PDP plot) is shown in yellow. How do the additional traces aide clarify the dependence of $y$ on $x_1$?"
   ]
  },
  {
   "cell_type": "markdown",
   "metadata": {
    "slideshow": {
     "slide_type": "slide"
    }
   },
   "source": [
    "### Next steps\n",
    "- We started by talking about feature importance.\n",
    "    - This gave a set of methods for trying to build insight into how much each feature contributed to the prediction function -- *though we saw this is somewhat ill-defined.* It didn't give insight into even the directionality of simple linear relationships -- let alone more complex stucture."
   ]
  },
  {
   "cell_type": "markdown",
   "metadata": {
    "slideshow": {
     "slide_type": "fragment"
    }
   },
   "source": [
    "- Next we looked at PDPs\n",
    "    - PDPs give some insight into average relationship between one or two predictors and the target. However, this was shown to be potentially misleading, if the average relationship masks interactions."
   ]
  },
  {
   "cell_type": "markdown",
   "metadata": {
    "slideshow": {
     "slide_type": "fragment"
    }
   },
   "source": [
    "- This led us to ICEplots, which plot a trace for each data instance separately."
   ]
  },
  {
   "cell_type": "markdown",
   "metadata": {
    "slideshow": {
     "slide_type": "fragment"
    }
   },
   "source": [
    "- Note this trajectory (moving from global to data-instance-specific measures of importance) could be extended -- next steps might look at additive feature attribution methods such as [SHAP values](https://arxiv.org/pdf/1705.07874.pdf)."
   ]
  },
  {
   "cell_type": "markdown",
   "metadata": {
    "slideshow": {
     "slide_type": "slide"
    }
   },
   "source": [
    "# Bibliography\n",
    "\n",
    "#### Papers\n",
    "\n",
    "- [Brieman, L (2001). *Random Forests*.](https://link.springer.com/content/pdf/10.1023/A:1010933404324.pdf)\n",
    "- [Friedman, J (2001). *Greedy Function Approximation: A Gradient Boosting Machine*.](https://statweb.stanford.edu/~jhf/ftp/trebst.pdf)\n",
    "- [Goldstein *et al* (2014). *Peeking Inside the Black Box: Visualizing\n",
    "Statistical Learning with Plots of Individual\n",
    "Conditional Expectation*](https://arxiv.org/pdf/1309.6392.pdf)\n",
    "\n",
    "#### Packages\n",
    "- [`scikit-learn/scikit-learn`](https://github.com/scikit-learn/scikit-learn)\n",
    "- [`TeamHG-Memex/eli5`](https://github.com/TeamHG-Memex/eli5)\n",
    "- [`SauceCat/PDPbox`](https://github.com/SauceCat/PDPbox)"
   ]
  }
 ],
 "metadata": {
  "celltoolbar": "Slideshow",
  "kernelspec": {
   "display_name": "Python 2",
   "language": "python",
   "name": "python2"
  },
  "language_info": {
   "codemirror_mode": {
    "name": "ipython",
    "version": 2
   },
   "file_extension": ".py",
   "mimetype": "text/x-python",
   "name": "python",
   "nbconvert_exporter": "python",
   "pygments_lexer": "ipython2",
   "version": "2.7.14"
  },
  "livereveal": {
   "scroll": true,
   "theme": "white",
   "transition": "slide"
  }
 },
 "nbformat": 4,
 "nbformat_minor": 2
}
